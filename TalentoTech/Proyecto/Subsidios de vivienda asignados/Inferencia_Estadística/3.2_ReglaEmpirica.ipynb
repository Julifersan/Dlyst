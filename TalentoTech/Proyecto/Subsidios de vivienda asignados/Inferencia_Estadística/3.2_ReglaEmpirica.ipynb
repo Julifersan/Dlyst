{
 "cells": [
  {
   "cell_type": "code",
   "execution_count": 7,
   "metadata": {},
   "outputs": [],
   "source": [
    "import pandas as pd"
   ]
  },
  {
   "cell_type": "markdown",
   "metadata": {},
   "source": [
    "# **Regla Empírica**\n",
    "La regla empírica (también conocida como la regla 68-95-99.7), que establece que:\n",
    "1. Aproximadamente el 68% de los datos caen dentro de una desviación estándar de la media.\n",
    "2. Aproximadamente el 95% de los datos caen dentro de dos desviaciones estándar de la media.\n",
    "3. Aproximadamente el 99.7% de los datos caen dentro de tres desviaciones estándar de la media.\n",
    "\n",
    "Entonces, si tienes la media (μ) y la desviación estándar (σ), puedes calcular el rango de datos que caen dentro de cierto número de desviaciones estándar de la media. Por ejemplo, para calcular el porcentaje de datos dentro de una desviación estándar de la media, simplemente multiplicarías la desviación estándar por 2 (para incluir tanto el lado positivo como el negativo de la media), lo sumarías a la media y luego calcularías qué porcentaje de tus datos caen dentro de ese rango.\n",
    "\n",
    "> Cabe destacar que esto se realiza con **atributos númericos**"
   ]
  },
  {
   "cell_type": "markdown",
   "metadata": {},
   "source": [
    "Por ejemplo, si tu media es μ y tu desviación estándar es σ, el rango sería (𝜇−𝜎, 𝜇+𝜎). Luego, puedes calcular qué porcentaje de tus datos caen dentro de este rango.\n",
    "\n",
    "Ejemplo:\n",
    "Se toma una muestra de 16 números:\n",
    "\n",
    "7, 9, 10, 12, 14, 15, 17, 18, 20, 21, 23, 25, 27, 28, 30, 32"
   ]
  },
  {
   "cell_type": "code",
   "execution_count": 11,
   "metadata": {},
   "outputs": [],
   "source": [
    "Datos = {'columna1':[7,9,10,12, 14, 15, 17, 18, 20, 21, 23, 25, 27, 28, 30, 32]}\n",
    "\n",
    "datos = pd.DataFrame(Datos)\n",
    "\n",
    "datos['columna1'] = datos['columna1'].astype(int)"
   ]
  },
  {
   "cell_type": "code",
   "execution_count": 12,
   "metadata": {},
   "outputs": [
    {
     "name": "stdout",
     "output_type": "stream",
     "text": [
      "La media de los datos es 19.25\n"
     ]
    }
   ],
   "source": [
    "mediaDatos = datos['columna1'].mean()\n",
    "print(f'La media de los datos es {mediaDatos}')"
   ]
  },
  {
   "cell_type": "code",
   "execution_count": 14,
   "metadata": {},
   "outputs": [
    {
     "name": "stdout",
     "output_type": "stream",
     "text": [
      "La desviación estándar de los datos es 7.79315939355364\n"
     ]
    }
   ],
   "source": [
    "s_Datos = datos['columna1'].std()\n",
    "print(f'La desviación estándar de los datos es {s_Datos}')"
   ]
  },
  {
   "cell_type": "markdown",
   "metadata": {},
   "source": [
    "Ahora, utilizando la regla empírica, podemos determinar el porcentaje de datos que caen dentro de $1$ desviación estándar de la media.\n",
    "* $1$ hace referencia al factor unico que se multiplica la desviacion estandar para poder abarcar el máximo numero de datos en un conjunto de datos dado.\n",
    "\n",
    "Dado que la desviacion estandar es &asymp; $7.79315939355364$, el rango sería:\n",
    "* $(\\overline{media} \\pm s) = (\\overline{media} - s,\\overline{media} + s)$\n",
    "\n",
    "* $(19.25\\pm7.8) = (11.45, 27.05)$\n",
    "\n",
    "Ahora, se cuenta los datos que estan en ese rango: $12, 14, 15, 17, 18, 20, 21, 23, 25, 27.$ ( $n = 10$ )\n",
    "\n",
    "Teniendo en cuenta el número total de datos ($16 = nt$)\n",
    "\n",
    "Entonces, el porcentaje de datos dentro de una (1) desviacion estandar con respecto a la media es:\n",
    "\n",
    "* $percent = \\frac{n}{nt} *100$\n",
    "* $percent = \\frac{10}{16} *100$\n",
    "* $percent =62.5$%\n",
    "\n",
    "$percent$ = Porcentaje de datos dentro del rango de la desviacion estandar con respecto a la media, contando ambos extremos.\n",
    "\n",
    "Un resultado del 62.5% indica que el 62.5% de tus datos se encuentran dentro de una desviación estándar de la media. Este resultado es ligeramente menor que el 68% esperado según la regla empírica para una distribución normal."
   ]
  },
  {
   "cell_type": "markdown",
   "metadata": {},
   "source": [
    "## Consideraciones\n",
    "En términos cualitativos, puedo sugerirte algunas pautas generales que puedes seguir para interpretar estos porcentajes:\n",
    "\n",
    "• Alta concentración: Si un alto porcentaje de tus datos (por ejemplo, más del 90%) cae dentro de 1 desviación estándar de la media, esto sugiere que tus datos están bastante concentrados alrededor de la media y que no hay una gran dispersión.\n",
    "\n",
    "• Concentración moderada: Si alrededor del 68-80% de tus datos caen dentro de 1 desviación estándar de la media, esto aún indica una concentración moderada de datos, pero puede haber algo de dispersión.\n",
    "\n",
    "• Dispersión moderada: Si alrededor del 50-60% de tus datos caen dentro de 1 desviación estándar de la media, esto sugiere una dispersión moderada, donde los datos están más esparcidos en comparación con los casos anteriores.\n",
    "\n",
    "• Alta dispersión: Si menos del 50% de tus datos caen dentro de 1 desviación estándar de la media, esto indica una alta dispersión de datos, lo que significa que los datos están muy extendidos y hay una gran variabilidad."
   ]
  },
  {
   "cell_type": "markdown",
   "metadata": {},
   "source": [
    "## **Aquí está el ejercício desde una entidad ⬇️**"
   ]
  },
  {
   "cell_type": "code",
   "execution_count": 1,
   "metadata": {},
   "outputs": [],
   "source": [
    "import pandas as pd"
   ]
  },
  {
   "cell_type": "code",
   "execution_count": 2,
   "metadata": {},
   "outputs": [
    {
     "data": {
      "text/html": [
       "<div>\n",
       "<style scoped>\n",
       "    .dataframe tbody tr th:only-of-type {\n",
       "        vertical-align: middle;\n",
       "    }\n",
       "\n",
       "    .dataframe tbody tr th {\n",
       "        vertical-align: top;\n",
       "    }\n",
       "\n",
       "    .dataframe thead th {\n",
       "        text-align: right;\n",
       "    }\n",
       "</style>\n",
       "<table border=\"1\" class=\"dataframe\">\n",
       "  <thead>\n",
       "    <tr style=\"text-align: right;\">\n",
       "      <th></th>\n",
       "      <th>Departamento</th>\n",
       "      <th>Código_Departamento</th>\n",
       "      <th>Programa</th>\n",
       "      <th>Código_Programa</th>\n",
       "      <th>Año_Asignación</th>\n",
       "      <th>Hogares</th>\n",
       "      <th>Valor_Asignado</th>\n",
       "      <th>Z_Score</th>\n",
       "      <th>Outlier</th>\n",
       "      <th>Valor_Asignado_Log</th>\n",
       "    </tr>\n",
       "  </thead>\n",
       "  <tbody>\n",
       "    <tr>\n",
       "      <th>0</th>\n",
       "      <td>AMAZONAS</td>\n",
       "      <td>91</td>\n",
       "      <td>Bolsa Desastres Naturales</td>\n",
       "      <td>174</td>\n",
       "      <td>2008</td>\n",
       "      <td>37</td>\n",
       "      <td>336984900.0</td>\n",
       "      <td>1.393850</td>\n",
       "      <td>False</td>\n",
       "      <td>19.635549</td>\n",
       "    </tr>\n",
       "    <tr>\n",
       "      <th>1</th>\n",
       "      <td>AMAZONAS</td>\n",
       "      <td>91</td>\n",
       "      <td>Bolsa Desplazados</td>\n",
       "      <td>162</td>\n",
       "      <td>2009</td>\n",
       "      <td>3</td>\n",
       "      <td>18633750.0</td>\n",
       "      <td>-0.734333</td>\n",
       "      <td>False</td>\n",
       "      <td>16.740485</td>\n",
       "    </tr>\n",
       "    <tr>\n",
       "      <th>2</th>\n",
       "      <td>AMAZONAS</td>\n",
       "      <td>91</td>\n",
       "      <td>Bolsa Ordinaria</td>\n",
       "      <td>168</td>\n",
       "      <td>2003</td>\n",
       "      <td>1</td>\n",
       "      <td>5280000.0</td>\n",
       "      <td>-1.661339</td>\n",
       "      <td>False</td>\n",
       "      <td>15.479437</td>\n",
       "    </tr>\n",
       "    <tr>\n",
       "      <th>3</th>\n",
       "      <td>AMAZONAS</td>\n",
       "      <td>91</td>\n",
       "      <td>Bolsa Ordinaria</td>\n",
       "      <td>168</td>\n",
       "      <td>2003</td>\n",
       "      <td>2</td>\n",
       "      <td>12049000.0</td>\n",
       "      <td>-1.054834</td>\n",
       "      <td>False</td>\n",
       "      <td>16.304492</td>\n",
       "    </tr>\n",
       "    <tr>\n",
       "      <th>4</th>\n",
       "      <td>AMAZONAS</td>\n",
       "      <td>91</td>\n",
       "      <td>Habilitación de Titulos</td>\n",
       "      <td>180</td>\n",
       "      <td>2005</td>\n",
       "      <td>215</td>\n",
       "      <td>22790000.0</td>\n",
       "      <td>-0.586321</td>\n",
       "      <td>False</td>\n",
       "      <td>16.941832</td>\n",
       "    </tr>\n",
       "  </tbody>\n",
       "</table>\n",
       "</div>"
      ],
      "text/plain": [
       "  Departamento  Código_Departamento                   Programa  \\\n",
       "0     AMAZONAS                   91  Bolsa Desastres Naturales   \n",
       "1     AMAZONAS                   91          Bolsa Desplazados   \n",
       "2     AMAZONAS                   91            Bolsa Ordinaria   \n",
       "3     AMAZONAS                   91            Bolsa Ordinaria   \n",
       "4     AMAZONAS                   91    Habilitación de Titulos   \n",
       "\n",
       "   Código_Programa  Año_Asignación  Hogares  Valor_Asignado   Z_Score  \\\n",
       "0              174            2008       37     336984900.0  1.393850   \n",
       "1              162            2009        3      18633750.0 -0.734333   \n",
       "2              168            2003        1       5280000.0 -1.661339   \n",
       "3              168            2003        2      12049000.0 -1.054834   \n",
       "4              180            2005      215      22790000.0 -0.586321   \n",
       "\n",
       "   Outlier  Valor_Asignado_Log  \n",
       "0    False           19.635549  \n",
       "1    False           16.740485  \n",
       "2    False           15.479437  \n",
       "3    False           16.304492  \n",
       "4    False           16.941832  "
      ]
     },
     "execution_count": 2,
     "metadata": {},
     "output_type": "execute_result"
    }
   ],
   "source": [
    "ruta = r'04_DataLog.csv'\n",
    "data = pd.read_csv(ruta)\n",
    "\n",
    "data.head()"
   ]
  },
  {
   "cell_type": "code",
   "execution_count": 3,
   "metadata": {},
   "outputs": [
    {
     "name": "stdout",
     "output_type": "stream",
     "text": [
      "La media de los datos es 17.729168005028484\n",
      "\n",
      "    ⬇️\n",
      "\n",
      "La desviacón estándar de los datos es 1.336779907330416\n"
     ]
    }
   ],
   "source": [
    "dataMedia = data['Valor_Asignado_Log'].mean()\n",
    "dataDesv = data ['Valor_Asignado_Log'].std()\n",
    "\n",
    "print(f'La media de los datos es {dataMedia}')\n",
    "print('\\n    ⬇️\\n')\n",
    "print(f'La desviacón estándar de los datos es {dataDesv}')"
   ]
  },
  {
   "cell_type": "code",
   "execution_count": 4,
   "metadata": {},
   "outputs": [
    {
     "name": "stdout",
     "output_type": "stream",
     "text": [
      "El rango minimo de la data es de 16.392388097698067\n",
      "\n",
      "    ⬇️\n",
      "\n",
      "El rango maximo de la data es de 19.0659479123589\n"
     ]
    }
   ],
   "source": [
    "rangoMinimo = dataMedia - dataDesv\n",
    "rangoMaximo =  dataMedia + dataDesv\n",
    "\n",
    "print(f'El rango minimo de la data es de {rangoMinimo}')\n",
    "print('\\n    ⬇️\\n')\n",
    "print(f'El rango maximo de la data es de {rangoMaximo}')"
   ]
  },
  {
   "cell_type": "code",
   "execution_count": 13,
   "metadata": {},
   "outputs": [
    {
     "data": {
      "text/plain": [
       "(78008, 10)"
      ]
     },
     "execution_count": 13,
     "metadata": {},
     "output_type": "execute_result"
    }
   ],
   "source": [
    "# Saber el numero de datos\n",
    "dataRows = data['Valor_Asignado_Log'].value_counts()\n",
    "\n",
    "data.shape"
   ]
  },
  {
   "cell_type": "code",
   "execution_count": 15,
   "metadata": {},
   "outputs": [
    {
     "data": {
      "text/plain": [
       "78008"
      ]
     },
     "execution_count": 15,
     "metadata": {},
     "output_type": "execute_result"
    }
   ],
   "source": [
    "TotalDatos = 78008\n",
    "\n",
    "TotalDatos"
   ]
  },
  {
   "cell_type": "code",
   "execution_count": 7,
   "metadata": {},
   "outputs": [
    {
     "name": "stdout",
     "output_type": "stream",
     "text": [
      "<class 'pandas.core.frame.DataFrame'>\n",
      "RangeIndex: 78008 entries, 0 to 78007\n",
      "Data columns (total 10 columns):\n",
      " #   Column               Non-Null Count  Dtype  \n",
      "---  ------               --------------  -----  \n",
      " 0   Departamento         78008 non-null  object \n",
      " 1   Código_Departamento  78008 non-null  int64  \n",
      " 2   Programa             78008 non-null  object \n",
      " 3   Código_Programa      78008 non-null  int64  \n",
      " 4   Año_Asignación       78008 non-null  int64  \n",
      " 5   Hogares              78008 non-null  int64  \n",
      " 6   Valor_Asignado       78008 non-null  float64\n",
      " 7   Z_Score              78008 non-null  float64\n",
      " 8   Outlier              78008 non-null  bool   \n",
      " 9   Valor_Asignado_Log   78008 non-null  float64\n",
      "dtypes: bool(1), float64(3), int64(4), object(2)\n",
      "memory usage: 5.4+ MB\n"
     ]
    }
   ],
   "source": [
    "# Compruebo el numero de registros en el atributo que me interesa\n",
    "data.info()"
   ]
  },
  {
   "cell_type": "code",
   "execution_count": 8,
   "metadata": {},
   "outputs": [
    {
     "data": {
      "text/plain": [
       "56337"
      ]
     },
     "execution_count": 8,
     "metadata": {},
     "output_type": "execute_result"
    }
   ],
   "source": [
    "# Hallar el numero de registros que entran en el rango minimo y maximo\n",
    "registrosINrango = data[(data['Valor_Asignado_Log'] >= rangoMinimo) & (data['Valor_Asignado_Log'] <= rangoMaximo)].shape[0]\n",
    "\n",
    "registrosINrango"
   ]
  },
  {
   "cell_type": "code",
   "execution_count": 17,
   "metadata": {},
   "outputs": [
    {
     "data": {
      "text/plain": [
       "72.21951594708234"
      ]
     },
     "execution_count": 17,
     "metadata": {},
     "output_type": "execute_result"
    }
   ],
   "source": [
    "# Se evalua para ver si entra en la regla empirica\n",
    "Porcentajeresultado = (registrosINrango / TotalDatos)*100\n",
    "\n",
    "Porcentajeresultado"
   ]
  }
 ],
 "metadata": {
  "kernelspec": {
   "display_name": "Python 3",
   "language": "python",
   "name": "python3"
  },
  "language_info": {
   "codemirror_mode": {
    "name": "ipython",
    "version": 3
   },
   "file_extension": ".py",
   "mimetype": "text/x-python",
   "name": "python",
   "nbconvert_exporter": "python",
   "pygments_lexer": "ipython3",
   "version": "3.12.5"
  }
 },
 "nbformat": 4,
 "nbformat_minor": 2
}
