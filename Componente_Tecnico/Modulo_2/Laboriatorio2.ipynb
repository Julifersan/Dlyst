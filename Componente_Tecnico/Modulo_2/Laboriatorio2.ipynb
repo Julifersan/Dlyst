{
 "cells": [
  {
   "cell_type": "markdown",
   "metadata": {},
   "source": [
    "# Link del ejercicio ⬇️\n",
    "\n",
    "[Data analysis using SQL](https://www.kaggle.com/code/gustavojaramillo/data-analysis-using-sql-espa-ol/)"
   ]
  },
  {
   "cell_type": "markdown",
   "metadata": {},
   "source": [
    "# **SQL**\n",
    "\n",
    "Los sistemas gestores de bases de datos interpretan consultas escritas en lenguaje **SQL**, y así es como interactuamos y obtenemos datos de las bases de datos y aplicaciones.\n",
    "\n",
    "* **SQL** significa Structured Query Language (Lenguaje de consulta estructurado)\n",
    "* **SQL** permite acceder y manipular bases de datos\n",
    "* **SQL** es una herramienta simple para el análisis avanzado de datos"
   ]
  },
  {
   "cell_type": "code",
   "execution_count": 89,
   "metadata": {},
   "outputs": [],
   "source": [
    "import pandas as pd\n",
    "import sqlite3\n",
    "from tabulate import tabulate"
   ]
  },
  {
   "cell_type": "code",
   "execution_count": 90,
   "metadata": {},
   "outputs": [
    {
     "name": "stdout",
     "output_type": "stream",
     "text": [
      "    type               name           tbl_name  rootpage  \\\n",
      "0  table    sqlite_sequence    sqlite_sequence         4   \n",
      "1  table  Player_Attributes  Player_Attributes        11   \n",
      "2  table             Player             Player        14   \n",
      "3  table              Match              Match        18   \n",
      "4  table             League             League        24   \n",
      "5  table            Country            Country        26   \n",
      "6  table               Team               Team        29   \n",
      "7  table    Team_Attributes    Team_Attributes         2   \n",
      "\n",
      "                                                 sql  \n",
      "0             CREATE TABLE sqlite_sequence(name,seq)  \n",
      "1  CREATE TABLE \"Player_Attributes\" (\\n\\t`id`\\tIN...  \n",
      "2  CREATE TABLE `Player` (\\n\\t`id`\\tINTEGER PRIMA...  \n",
      "3  CREATE TABLE `Match` (\\n\\t`id`\\tINTEGER PRIMAR...  \n",
      "4  CREATE TABLE `League` (\\n\\t`id`\\tINTEGER PRIMA...  \n",
      "5  CREATE TABLE `Country` (\\n\\t`id`\\tINTEGER PRIM...  \n",
      "6  CREATE TABLE \"Team\" (\\n\\t`id`\\tINTEGER PRIMARY...  \n",
      "7  CREATE TABLE `Team_Attributes` (\\n\\t`id`\\tINTE...  \n"
     ]
    }
   ],
   "source": [
    "# se crea una variable llamada conex (conexión) la cual se encargara de tener 'guardada' la base de datos que contendrá muchas tablas\n",
    "conex = sqlite3.connect('database.sqlite')\n",
    "\n",
    "# Se crea la consulta SQL\n",
    "# Select * : Seleccionar todos los atributos de la entidad(tabla), o las tablas de la base de datos\n",
    "# from sqlite_master : Selecciona todas las tablas de la base de datos maestra o principal\n",
    "# where type='table' : Se especifica con una condición, que solo queremos escoger archivos tipo tabla, es decir, formato tabular.\n",
    "query = \"\"\"select *\n",
    "                    from sqlite_master\n",
    "                    where type = 'table';\"\"\"\n",
    "\n",
    "# Se crea una variable que contenga el método de pandas, pd.read_sql; muy similar a leer un archivo csv o excel.\n",
    "# (query, conex) : Estos son los parámetros que creamnos con anterioridad, el cual índica que el primero (query) hace referencia a la contulta en si, y el segundo (conex), hace alusión a la conexión  que contiene nuestra base de datos.\n",
    "tablas = pd.read_sql(query, conex)\n",
    "\n",
    "# Se muestran las tablas contenidas en la base de datos.\n",
    "print(tablas)"
   ]
  },
  {
   "cell_type": "code",
   "execution_count": 91,
   "metadata": {},
   "outputs": [
    {
     "name": "stdout",
     "output_type": "stream",
     "text": [
      "   cid  name     type  notnull dflt_value  pk\n",
      "0    0    id  INTEGER        0       None   1\n",
      "1    1  name     TEXT        0       None   0\n"
     ]
    }
   ],
   "source": [
    "# Obtener la estructura de una tabla en específico, en este caso, la tabla player, manejandola con todos los métodos que podemos usar en una tabla normal\n",
    "query_player = 'pragma table_info(country)'\n",
    "columns_player = pd.read_sql(query_player, conex)\n",
    "\n",
    "print(columns_player.head(4))"
   ]
  },
  {
   "cell_type": "markdown",
   "metadata": {},
   "source": [
    "## 2. **Sentencia SELECT**\n",
    "Esta es la consulta más básica y su estructura es muy simple:\n",
    "\n",
    "* Se define lo que se quiere ver después del SELECT\n",
    "* Se eligen las tablas a consultar después del FROM\n",
    "\n",
    "Las únicas partes imprescindibles de una consulta son el SELECT y el FROM."
   ]
  },
  {
   "cell_type": "code",
   "execution_count": 92,
   "metadata": {},
   "outputs": [
    {
     "name": "stdout",
     "output_type": "stream",
     "text": [
      "       id         name\n",
      "0       1      Belgium\n",
      "1    1729      England\n",
      "2    4769       France\n",
      "3    7809      Germany\n",
      "4   10257        Italy\n",
      "5   13274  Netherlands\n",
      "6   15722       Poland\n",
      "7   17642     Portugal\n",
      "8   19694     Scotland\n",
      "9   21518        Spain\n",
      "10  24558  Switzerland\n"
     ]
    }
   ],
   "source": [
    "# Listar los paises\n",
    "query = \"\"\"select *\n",
    "                    from Country;\"\"\"\n",
    "\n",
    "paises = pd.read_sql_query(query, conex)\n",
    "\n",
    "print(paises)"
   ]
  },
  {
   "cell_type": "code",
   "execution_count": 93,
   "metadata": {},
   "outputs": [
    {
     "name": "stdout",
     "output_type": "stream",
     "text": [
      "       id  country_id                      name\n",
      "0       1           1    Belgium Jupiler League\n",
      "1    1729        1729    England Premier League\n",
      "2    4769        4769            France Ligue 1\n",
      "3    7809        7809     Germany 1. Bundesliga\n",
      "4   10257       10257             Italy Serie A\n",
      "5   13274       13274    Netherlands Eredivisie\n",
      "6   15722       15722        Poland Ekstraklasa\n",
      "7   17642       17642  Portugal Liga ZON Sagres\n",
      "8   19694       19694   Scotland Premier League\n",
      "9   21518       21518           Spain LIGA BBVA\n",
      "10  24558       24558  Switzerland Super League\n"
     ]
    }
   ],
   "source": [
    "# 2.1.2 Práctica: Listar las ligas del fútbol europeo\n",
    "query = \"\"\"select *\n",
    "                     from League;\"\"\"\n",
    "        \n",
    "liga = pd.read_sql_query(query, conex)\n",
    "\n",
    "print(liga)"
   ]
  },
  {
   "cell_type": "code",
   "execution_count": 94,
   "metadata": {},
   "outputs": [
    {
     "name": "stdout",
     "output_type": "stream",
     "text": [
      "          id  player_api_id          player_name  player_fifa_api_id  \\\n",
      "0          1         505942   Aaron Appindangoye              218353   \n",
      "1          2         155782      Aaron Cresswell              189615   \n",
      "2          3         162549          Aaron Doran              186170   \n",
      "3          4          30572        Aaron Galindo              140161   \n",
      "4          5          23780         Aaron Hughes               17725   \n",
      "...      ...            ...                  ...                 ...   \n",
      "11055  11071          26357       Zoumana Camara                2488   \n",
      "11056  11072         111182         Zsolt Laczko              164680   \n",
      "11057  11073          36491            Zsolt Low              111191   \n",
      "11058  11074          35506  Zurab Khizanishvili               47058   \n",
      "11059  11075          39902   Zvjezdan Misimovic              102359   \n",
      "\n",
      "                  birthday  height  weight  \n",
      "0      1992-02-29 00:00:00  182.88     187  \n",
      "1      1989-12-15 00:00:00  170.18     146  \n",
      "2      1991-05-13 00:00:00  170.18     163  \n",
      "3      1982-05-08 00:00:00  182.88     198  \n",
      "4      1979-11-08 00:00:00  182.88     154  \n",
      "...                    ...     ...     ...  \n",
      "11055  1979-04-03 00:00:00  182.88     168  \n",
      "11056  1986-12-18 00:00:00  182.88     176  \n",
      "11057  1979-04-29 00:00:00  180.34     154  \n",
      "11058  1981-10-06 00:00:00  185.42     172  \n",
      "11059  1982-06-05 00:00:00  180.34     176  \n",
      "\n",
      "[11060 rows x 7 columns]\n"
     ]
    }
   ],
   "source": [
    "# 2.1.3 Práctica: Listar los jugadores del fútbol europeo\n",
    "query = \"\"\"select *\n",
    "                    from player;\"\"\"\n",
    "\n",
    "jugadores = pd.read_sql(query, conex)\n",
    "\n",
    "print(jugadores)"
   ]
  },
  {
   "cell_type": "code",
   "execution_count": 95,
   "metadata": {},
   "outputs": [
    {
     "name": "stdout",
     "output_type": "stream",
     "text": [
      "               player_name\n",
      "0       Aaron Appindangoye\n",
      "1          Aaron Cresswell\n",
      "2              Aaron Doran\n",
      "3            Aaron Galindo\n",
      "4             Aaron Hughes\n",
      "...                    ...\n",
      "10843       Zoumana Camara\n",
      "10844         Zsolt Laczko\n",
      "10845            Zsolt Low\n",
      "10846  Zurab Khizanishvili\n",
      "10847   Zvjezdan Misimovic\n",
      "\n",
      "[10848 rows x 1 columns]\n"
     ]
    }
   ],
   "source": [
    "# 2.2 Sentencia SELECT DISTINCT\n",
    "# #Consulta de solo los jugadores únicos de la tabla Player\n",
    "\n",
    "query = \"\"\"select distinct(player_name)\n",
    "                    from player;\"\"\"\n",
    "\n",
    "jugadoresUnicos = pd.read_sql(query, conex)\n",
    "\n",
    "print(jugadoresUnicos)"
   ]
  },
  {
   "cell_type": "code",
   "execution_count": 96,
   "metadata": {},
   "outputs": [
    {
     "name": "stdout",
     "output_type": "stream",
     "text": [
      "      season\n",
      "0  2008/2009\n",
      "1  2009/2010\n",
      "2  2010/2011\n",
      "3  2011/2012\n",
      "4  2012/2013\n",
      "5  2013/2014\n",
      "6  2014/2015\n",
      "7  2015/2016\n"
     ]
    }
   ],
   "source": [
    "# 2.2.1 Ejemplo: Listar las temporadas jugadas de esta Base de Datos\n",
    "# Consulta de solo los jugadores únicos de la tabla Player\n",
    "query = \"\"\"select distinct season \n",
    "                    from match; \"\"\"\n",
    "\n",
    "#Creo una variable players_distinct que almacene los jugadores únicos\n",
    "temporadas = pd.read_sql(query, conex)\n",
    "\n",
    "print(temporadas)"
   ]
  },
  {
   "cell_type": "code",
   "execution_count": 97,
   "metadata": {},
   "outputs": [
    {
     "name": "stdout",
     "output_type": "stream",
     "text": [
      "    overall_rating\n",
      "0             67.0\n",
      "1             62.0\n",
      "2             61.0\n",
      "3             74.0\n",
      "4             73.0\n",
      "..             ...\n",
      "57            33.0\n",
      "58            36.0\n",
      "59            37.0\n",
      "60            35.0\n",
      "61            94.0\n",
      "\n",
      "[62 rows x 1 columns]\n"
     ]
    }
   ],
   "source": [
    "# 2.2.2 Práctica: Listar sólo tasas diferentes de valoración general de los jugadores.\n",
    "query = \"\"\"select distinct overall_rating\n",
    "                    from player_attributes;\"\"\"\n",
    "\n",
    "calificacionGeneral = pd.read_sql_query(query, conex)\n",
    "\n",
    "print(calificacionGeneral)"
   ]
  },
  {
   "cell_type": "markdown",
   "metadata": {},
   "source": [
    "## 3. **Sentencia LIMIT**\n",
    "\n",
    "Cuando deseamos poner un límite al resultado o no nos interesa conocer la totalidad de los resultados, podemos limitar la cantidad de registros resultantes mediante la sentencia **LIMIT**\n",
    "\n",
    "La sintaxis de **LIMIT** es así:\n",
    "\n",
    "* **SELECT** column1, column2...\n",
    "* **FROM** table_name\n",
    "* **LIMIT** number;"
   ]
  },
  {
   "cell_type": "code",
   "execution_count": 98,
   "metadata": {},
   "outputs": [
    {
     "name": "stdout",
     "output_type": "stream",
     "text": [
      "    id         player_name             birthday  height\n",
      "0    1  Aaron Appindangoye  1992-02-29 00:00:00  182.88\n",
      "1    2     Aaron Cresswell  1989-12-15 00:00:00  170.18\n",
      "2    3         Aaron Doran  1991-05-13 00:00:00  170.18\n",
      "3    4       Aaron Galindo  1982-05-08 00:00:00  182.88\n",
      "4    5        Aaron Hughes  1979-11-08 00:00:00  182.88\n",
      "5    6          Aaron Hunt  1986-09-04 00:00:00  182.88\n",
      "6    7          Aaron Kuhl  1996-01-30 00:00:00  172.72\n",
      "7    8        Aaron Lennon  1987-04-16 00:00:00  165.10\n",
      "8    9        Aaron Lennox  1993-02-19 00:00:00  190.50\n",
      "9   10       Aaron Meijers  1987-10-28 00:00:00  175.26\n",
      "10  11       Aaron Mokoena  1980-11-25 00:00:00  182.88\n",
      "11  12          Aaron Mooy  1990-09-15 00:00:00  175.26\n",
      "12  13      Aaron Muirhead  1990-08-30 00:00:00  187.96\n",
      "13  14        Aaron Niguez  1989-04-26 00:00:00  170.18\n",
      "14  15        Aaron Ramsey  1990-12-26 00:00:00  177.80\n"
     ]
    }
   ],
   "source": [
    "# 3.1.1 Ejemplo: Listar 15 jugadores de la base de datos del fútbol europeo\n",
    "\n",
    "query = \"\"\"select id, player_name, birthday, height\n",
    "                    from player\n",
    "                    limit 15;\"\"\"\n",
    "\n",
    "jugadores15 = pd.read_sql_query(query, conex)\n",
    "\n",
    "print(jugadores15)"
   ]
  },
  {
   "cell_type": "code",
   "execution_count": 99,
   "metadata": {},
   "outputs": [
    {
     "name": "stdout",
     "output_type": "stream",
     "text": [
      "      id        team_long_name\n",
      "0      1              KRC Genk\n",
      "1      2          Beerschot AC\n",
      "2      3      SV Zulte-Waregem\n",
      "3      4      Sporting Lokeren\n",
      "4      5     KSV Cercle Brugge\n",
      "5      6        RSC Anderlecht\n",
      "6      7              KAA Gent\n",
      "7      8             RAEC Mons\n",
      "8      9         FCV Dender EH\n",
      "9     10     Standard de Liège\n",
      "10    11           KV Mechelen\n",
      "11    12        Club Brugge KV\n",
      "12    13         KSV Roeselare\n",
      "13    14           KV Kortrijk\n",
      "14    15                Tubize\n",
      "15    16  Royal Excel Mouscron\n",
      "16    17          KVC Westerlo\n",
      "17    18    Sporting Charleroi\n",
      "18   614     Sint-Truidense VV\n",
      "19  1034             Lierse SK\n",
      "20  1042             KAS Eupen\n",
      "21  1513   Oud-Heverlee Leuven\n",
      "22  2004      Waasland-Beveren\n",
      "23  2476           KV Oostende\n",
      "24  2510  Royal Excel Mouscron\n"
     ]
    }
   ],
   "source": [
    "# 3.1.2 Práctica: Listar 25 equipos del fútbol europeo\n",
    "\n",
    "#Deben listar 25 equipos del fútbol europeo. La tabla de resultados deberá contener los campos id y team_long_name de la tabla Team de la base de datos de Fútbol Europeo.\n",
    "\n",
    "query = \"\"\"select id, team_long_name\n",
    "                    from team\n",
    "                    limit 25;\"\"\"\n",
    "\n",
    "equipos25 = pd.read_sql_query(query, conex)\n",
    "\n",
    "print(equipos25)"
   ]
  },
  {
   "cell_type": "markdown",
   "metadata": {},
   "source": [
    "## **4. Funciones agregativas/ Métricas**\n",
    "\n",
    "Todas las métricas tienen que ser agregadas usando funciones. Las funciones agregativas más comunes son:\n",
    "\n",
    "* **SUM()** | Sumatoria total de una columna tipo numérica.\n",
    "* **COUNT()** | Devuelve la cantidad de filas.\n",
    "* **COUNT(DISTINCT)** | Devuelve la cantidad de filas distintas o diferentes.\n",
    "* **AVG()** | Promedia los valores de una columna tipo numérica.\n",
    "* **MIN()** | Menor valor dentro de la columna especificada.\n",
    "* **MAX()** | Mayor valor dentro de la columna especificada."
   ]
  },
  {
   "cell_type": "code",
   "execution_count": 100,
   "metadata": {},
   "outputs": [
    {
     "name": "stdout",
     "output_type": "stream",
     "text": [
      "El número total de paises son: 11\n"
     ]
    }
   ],
   "source": [
    "# 4.1.1 Ejemplo: ¿Cuántos países diferentes están almacenados en la tabla Country?\n",
    "\n",
    "query = \"\"\"select distinct(count(name))\n",
    "                    from country;\"\"\"\n",
    "\n",
    "paisesUnicos = pd.read_sql(query, conex)\n",
    "\n",
    "# Obtener solo el valor\n",
    "total_paises = paisesUnicos.iloc[0,0]\n",
    "\n",
    "print(f'El número total de paises son: {total_paises}')"
   ]
  },
  {
   "cell_type": "code",
   "execution_count": 101,
   "metadata": {},
   "outputs": [
    {
     "name": "stdout",
     "output_type": "stream",
     "text": [
      "El ´numero total de etapas son: 38\n"
     ]
    }
   ],
   "source": [
    "# 4.1.2 Práctica: Traer el número de etapas jugadas de la tabla Match\n",
    "\n",
    "#Deben traer el número de etapas stage almacenados en la tabla Match de la base de datos de Fútbol Europeo. La tabla de resultados deberá mostrar únicamente el número con la cantidad de etapas diferentes.\n",
    "\n",
    "query = \"\"\"select count(distinct(stage))\n",
    "                    from match;\"\"\"\n",
    "\n",
    "etapasUnicas = pd.read_sql(query, conex)\n",
    "\n",
    "# Obtener solo el valor\n",
    "total_etapas = etapasUnicas.iloc[0,0]\n",
    "\n",
    "print(f'El ´numero total de etapas son: {total_etapas}')"
   ]
  },
  {
   "cell_type": "code",
   "execution_count": 102,
   "metadata": {},
   "outputs": [
    {
     "name": "stdout",
     "output_type": "stream",
     "text": [
      "La suma de todos los goles marcados por equipos visitantes son 30160\n"
     ]
    }
   ],
   "source": [
    "# 4.1.3 Práctica: Traer la suma de goles hechos por los equipos visitantes de la tabla Match\n",
    "\n",
    "# Deben traer la suma de goles hechos por los equipos visitantes away_team_goal almacenados en la tabla Match de la base de datos de Fútbol Europeo. La tabla de resultados deberá mostrar únicamente el número con la suma de goles.\n",
    "\n",
    "query = \"\"\"select sum(away_team_goal)\n",
    "                    from match;\"\"\"\n",
    "\n",
    "sumaGoles_visitantes = pd.read_sql_query(query, conex)\n",
    "\n",
    "# Obtener el valor de la suma de goles\n",
    "total_goles = sumaGoles_visitantes.iloc[0,0]\n",
    "\n",
    "print(f'La suma de todos los goles marcados por equipos visitantes son {total_goles}')"
   ]
  },
  {
   "cell_type": "code",
   "execution_count": 103,
   "metadata": {},
   "outputs": [
    {
     "name": "stdout",
     "output_type": "stream",
     "text": [
      "El promedio de goles hechos por los equipos locales es de 1.5445937103044767\n",
      "El promedio de goles hechos por los equipos visitantes es de 1.1609376804341969\n"
     ]
    }
   ],
   "source": [
    "# 4.1.4 Práctica: Traer el promedio de goles hechos por los equipos locales y el promedio de goles hechos por los visitantes de la tabla Match\n",
    "\n",
    "# Deben traer el promedio de goles hechos por los equipos locales home_team_goal y el promedio de goles hechos por los equipos visitantes away_team_goal almacenados en la tabla Match de la base de datos de Fútbol Europeo. La tabla de resultados deberá mostrar únicamente el número con el promedio de goles.\n",
    "\n",
    "query = \"\"\"select avg(home_team_goal), avg(away_team_goal)\n",
    "                    from match;\"\"\"\n",
    "            \n",
    "consultaPromedio = pd.read_sql(query, conex)\n",
    "\n",
    "# Mostrar valores\n",
    "promedioGoleshome = consultaPromedio.iloc[0,0]\n",
    "promedioGolesaway = consultaPromedio.iloc[0,1]\n",
    "\n",
    "print(f'El promedio de goles hechos por los equipos locales es de {promedioGoleshome}')\n",
    "print(f'El promedio de goles hechos por los equipos visitantes es de {promedioGolesaway}')"
   ]
  },
  {
   "cell_type": "code",
   "execution_count": 104,
   "metadata": {},
   "outputs": [
    {
     "name": "stdout",
     "output_type": "stream",
     "text": [
      "Los goles máximos que ha anotado un equipo visitante en un partido es de 9 goles\n"
     ]
    }
   ],
   "source": [
    "# 4.1.5 Práctica: Traer la máxima cantidad de goles que un equipo visitante anotó en los juegos de la tabla Match\n",
    "\n",
    "# Deben traer la máxima cantidad de goles un equipo visitante away_team_goal almacenados en la tabla Match de la base de datos de Fútbol Europeo. La tabla de resultados deberá mostrar únicamente el número con cantidad de goles.\n",
    "\n",
    "query = \"\"\"select max(away_team_goal)\n",
    "                    from match;\"\"\"\n",
    "\n",
    "consultaGolesmmaximos = pd.read_sql(query, conex)\n",
    "\n",
    "# mostrar el valor\n",
    "golesMaximos = consultaGolesmmaximos.iloc[0,0]\n",
    "\n",
    "print(f'Los goles máximos que ha anotado un equipo visitante en un partido es de {golesMaximos} goles')"
   ]
  },
  {
   "cell_type": "markdown",
   "metadata": {},
   "source": [
    "## **5. Operaciones matemáticas**\n",
    "\n",
    "Se pueden realizar operaciones matemáticas como: +, -, *, /, etc. Asimismo, estás operaciones pueden ser usadas en conjunto con las funciones agregativas/ métricas.\n",
    "\n",
    "La sintaxis en la sentencia SELECT es así:\n",
    "\n",
    "* (+)\n",
    "    * SELECT column1+column2\n",
    "    * FROM table_name\n",
    "\n",
    "La sintaxis combinando con una métrica en la sentencia SELECT es así:\n",
    "\n",
    "* AVG(+)\n",
    "    * SELECT AVG(column1+column2)\n",
    "    *FROM table_name\n",
    "\n"
   ]
  },
  {
   "cell_type": "code",
   "execution_count": 105,
   "metadata": {},
   "outputs": [
    {
     "name": "stdout",
     "output_type": "stream",
     "text": [
      "La suma de los promedios de los goles por equipo viitante y local es de 2.7055313907386735\n"
     ]
    }
   ],
   "source": [
    "# 5.1.1 Práctica: Traer el promedio de goles por partido de la tabla Match\n",
    "\n",
    "# Deben traer el promedio de la suma de goles hechos por los equipos locales home_team_goal y visitantes away_team_goal en todos los juegos almacenados en la tabla Match de la base de datos de Fútbol Europeo. La tabla de resultados deberá mostrar únicamente el número con el promedio de goles por partido.\n",
    "\n",
    "query = \"\"\"select avg(home_team_goal + away_team_goal)\n",
    "                    from match;\"\"\"\n",
    "\n",
    "consultaPromedio_golesawayhome = pd.read_sql(query, conex)\n",
    "\n",
    "# mostrar valores\n",
    "sumaPromedio = consultaPromedio_golesawayhome.iloc[0,0]\n",
    "\n",
    "print(f'La suma de los promedios de los goles por equipo viitante y local es de {sumaPromedio}')"
   ]
  },
  {
   "cell_type": "markdown",
   "metadata": {},
   "source": [
    "## **6. Sentencia WHERE**\n",
    "\n",
    "La sentencia **WHERE** se utiliza para filtrar registros. Mediante esta sentencia, se extraen sólo aquellos registros que cumplen una condición específica.\n",
    "\n",
    "La sintaxis de **WHERE** es así:\n",
    "\n",
    "* **SELECT** column1, column2...\n",
    "* **FROM** table_name\n",
    "* **WHERE** condition;"
   ]
  },
  {
   "cell_type": "markdown",
   "metadata": {},
   "source": [
    "#### **6.1 Campos de texto (y fecha) vs campos numéricos**\n",
    "\n",
    "Ejemplos de sintaxis con campo númerico:\n",
    "\n",
    "* **SELECT** *\n",
    "* **FROM** Customers\n",
    "* **WHERE** CustomerId = 1;\n",
    "\n",
    "Ejemplos de sintaxis con campo de texto:\n",
    "\n",
    "* **SELECT** *\n",
    "* **FROM** Customers\n",
    "* **WHERE** Country = 'Mexico';"
   ]
  },
  {
   "cell_type": "code",
   "execution_count": 106,
   "metadata": {},
   "outputs": [
    {
     "name": "stdout",
     "output_type": "stream",
     "text": [
      "        id          player_name             birthday  height  weight\n",
      "0       27   Abdelmalek Cherrad  1981-01-14 00:00:00  185.42     165\n",
      "1       44   Abdoulaye Doucoure  1993-01-01 00:00:00  182.88     165\n",
      "2       46      Abdoulaye Keita  1994-01-05 00:00:00  175.26     165\n",
      "3       49  Abdoulwahid Sissoko  1990-03-20 00:00:00  182.88     165\n",
      "4       58   Abdullah Al Hafith  1992-12-25 00:00:00  187.96     165\n",
      "..     ...                  ...                  ...     ...     ...\n",
      "806  11007     Zainadine Junior  1988-06-24 00:00:00  177.80     165\n",
      "807  11015       Zakaria M'Sila  1992-04-06 00:00:00  177.80     165\n",
      "808  11047            Zhi Zheng  1980-08-20 00:00:00  180.34     165\n",
      "809  11063          Zoltan Gera  1979-04-22 00:00:00  182.88     165\n",
      "810  11066      Zoran Josipovic  1995-08-25 00:00:00  187.96     165\n",
      "\n",
      "[811 rows x 5 columns]\n"
     ]
    }
   ],
   "source": [
    "# 6.2.1 Ejemplo: Listar los jugadores que pesan 165 libras\n",
    "\n",
    "# Queremos listar a los jugadores que cumplan con la condición de pesar 165 libras. En la tabla de resultados quiero ver los campos id,player_name, birthday, height y weight de los que cumplen la condición. Todos se encuentran en la tabla Player\n",
    "\n",
    "query = \"\"\"select id, player_name, birthday, height, weight\n",
    "                    from player\n",
    "                    where weight = 165;\"\"\"\n",
    "\n",
    "consultaJugadores_peso165 = pd.read_sql(query, conex)\n",
    "\n",
    "print(consultaJugadores_peso165)"
   ]
  },
  {
   "cell_type": "code",
   "execution_count": 107,
   "metadata": {},
   "outputs": [
    {
     "name": "stdout",
     "output_type": "stream",
     "text": [
      "      season  home_team_goal  away_team_goal\n",
      "0  2012/2013               1               7\n",
      "1  2014/2015               1               7\n",
      "2  2014/2015               2               7\n",
      "3  2013/2014               0               7\n",
      "4  2010/2011               0               7\n",
      "5  2013/2014               0               7\n",
      "6  2011/2012               0               7\n",
      "7  2008/2009               1               7\n",
      "8  2009/2010               1               7\n",
      "9  2015/2016               0               7\n"
     ]
    }
   ],
   "source": [
    "# 6.2.2 Práctica: Listar las temporadas en que un equipo visitante anotó 7 o más goles\n",
    "\n",
    "# Deben listar las temporadas en que algún equipo visitante haya anotado 7 o más goles. La tabla de resultados deberá contener los campos season, home_team_goal, away_team_goal de la tabla Match de la base de datos de Fútbol Europeo.\n",
    "\n",
    "query = \"\"\"select season, home_team_goal, away_team_goal\n",
    "                    from match\n",
    "                    where away_team_goal = 7;\"\"\"\n",
    "\n",
    "consultaVIsitante_7 = pd.read_sql_query(query, conex)\n",
    "\n",
    "print(consultaVIsitante_7)"
   ]
  },
  {
   "cell_type": "markdown",
   "metadata": {},
   "source": [
    "#### 6.3 Operadores lógicos en WHERE\n",
    "\n",
    "La sentencia **WHERE** puede combinarse con los operadores lógicos: **AND, OR y NOT**. Los operadores **AND** y **OR** se utilizan para filtrar registros basados en más de una condición.\n",
    "\n",
    "* El operador **AND** muestra un registro si todas las condiciones separadas por **AND** son VERDADERA(s).\n",
    "    * Sintaxis de **AND**:\n",
    "        * **SELECT** column1, column2, ...\n",
    "        * **FROM** table_name\n",
    "        * **WHERE** condition1 **AND** condition2 **AND** condition3 ...;\n",
    "\n",
    "* El operador **OR** muestra un registro si alguna de las condiciones separadas por **OR** es VERDADERA(s).\n",
    "    * Sintaxis de **OR**:\n",
    "        * **SELECT** column1, column2, ...\n",
    "        * **FROM** table_name\n",
    "        * **WHERE** condition1 OR condition2 ...;\n",
    "\n",
    "* El operador **NOT** muestra un registro si la(s) condición(es) NO es VERDADERA(s).\n",
    "    * Sintaxis de **NO**T:\n",
    "        * **SELECT** column1, column2, ...\n",
    "        * **FROM** table_name\n",
    "        * **WHERE** NOT condition;\n",
    "\n",
    "\n",
    "\n",
    "\n",
    "\n"
   ]
  },
  {
   "cell_type": "code",
   "execution_count": 108,
   "metadata": {},
   "outputs": [
    {
     "name": "stdout",
     "output_type": "stream",
     "text": [
      "       id buildUpPlayDribblingClass buildUpPlaySpeedClass\n",
      "0       2                    Normal              Balanced\n",
      "1       3                    Normal              Balanced\n",
      "2       8                    Normal              Balanced\n",
      "3       9                    Normal              Balanced\n",
      "4      14                    Normal              Balanced\n",
      "..    ...                       ...                   ...\n",
      "382  1450                    Normal              Balanced\n",
      "383  1451                    Normal              Balanced\n",
      "384  1452                    Normal              Balanced\n",
      "385  1457                    Normal              Balanced\n",
      "386  1458                    Normal              Balanced\n",
      "\n",
      "[387 rows x 3 columns]\n"
     ]
    }
   ],
   "source": [
    "# 6.3.1 Práctica: Traer el Id de los equipos que desarrollan un dribbling normal y su velocidad de juego es balanceada\n",
    "\n",
    "# Tomando la tabla Team_Attributes de la base de datos de Fútbol Europeo, deben obtener el id,buildUpPlayDribblingClass y buildUpPlaySpeedClass de los equipos que tengan los siguientes atributos:\n",
    "    # buildUpPlayDribblingClass = 'Normal'\n",
    "    # buildUpPlaySpeedClass = 'Balanced'\n",
    "\n",
    "query = \"\"\"select id, buildupplaydribblingclass, buildupplayspeedclass\n",
    "                    from team_attributes\n",
    "                    where  buildUpPlayDribblingClass = 'Normal' and buildUpPlaySpeedClass = 'Balanced';\"\"\"\n",
    "\n",
    "consultaBuild = pd.read_sql(query, conex)\n",
    "\n",
    "print(consultaBuild)"
   ]
  },
  {
   "cell_type": "code",
   "execution_count": 109,
   "metadata": {},
   "outputs": [
    {
     "name": "stdout",
     "output_type": "stream",
     "text": [
      "      id buildUpPlayPassingClass buildUpPlaySpeedClass\n",
      "0      4                    Long                  Fast\n",
      "1     90                    Long                  Fast\n",
      "2    167                    Long                  Fast\n",
      "3    179                    Long                  Fast\n",
      "4    183                    Long                  Fast\n",
      "5    225                    Long                  Fast\n",
      "6    289                    Long                  Fast\n",
      "7    336                    Long                  Fast\n",
      "8    359                    Long                  Fast\n",
      "9    419                    Long                  Fast\n",
      "10   536                    Long                  Fast\n",
      "11   555                    Long                  Fast\n",
      "12   564                    Long                  Fast\n",
      "13   586                    Long                  Fast\n",
      "14   611                    Long                  Fast\n",
      "15   612                    Long                  Fast\n",
      "16   642                    Long                  Fast\n",
      "17   713                    Long                  Fast\n",
      "18   830                    Long                  Fast\n",
      "19   853                    Long                  Fast\n",
      "20   899                    Long                  Fast\n",
      "21   908                    Long                  Fast\n",
      "22  1002                    Long                  Fast\n",
      "23  1014                    Long                  Fast\n",
      "24  1037                    Long                  Fast\n",
      "25  1216                    Long                  Fast\n",
      "26  1239                    Long                  Fast\n",
      "27  1245                    Long                  Fast\n",
      "28  1246                    Long                  Fast\n",
      "29  1367                    Long                  Fast\n",
      "30  1388                    Long                  Fast\n",
      "31  1389                    Long                  Fast\n",
      "32  1399                    Long                  Fast\n",
      "33  1421                    Long                  Fast\n",
      "34  1423                    Long                  Fast\n"
     ]
    }
   ],
   "source": [
    "# 6.3.2 Práctica: Traer el Id de los equipos que desarrollan un juego de pase largo o su velocidad de juego es rápida\n",
    "\n",
    "# Tomando la tabla Team_Attributes de la base de datos de Fútbol Europeo, deben obtener el id,buildUpPlayPassingClass y buildUpPlaySpeedClass de los equipos que tengan los siguientes atributos:\n",
    "    # buildUpPlayPassingClass = 'Long'\n",
    "    # buildUpPlaySpeedClass = 'Fast'\n",
    "\n",
    "query = \"\"\"select id, buildUpPlayPassingClass, buildUpPlaySpeedClass\n",
    "                    from team_attributes\n",
    "                    where buildUpPlayPassingClass = 'Long' and buildUpPlaySpeedClass = 'Fast';\"\"\"\n",
    "\n",
    "consultaBuild2 = pd.read_sql_query(query, conex)\n",
    "\n",
    "print(consultaBuild2)"
   ]
  },
  {
   "cell_type": "code",
   "execution_count": 110,
   "metadata": {},
   "outputs": [
    {
     "name": "stdout",
     "output_type": "stream",
     "text": [
      "      id         name\n",
      "0   1729      England\n",
      "1   4769       France\n",
      "2   7809      Germany\n",
      "3  10257        Italy\n",
      "4  13274  Netherlands\n",
      "5  15722       Poland\n",
      "6  17642     Portugal\n",
      "7  19694     Scotland\n",
      "8  21518        Spain\n",
      "9  24558  Switzerland\n"
     ]
    }
   ],
   "source": [
    "# 6.3.3 Práctica: Traer la tabla de países sin Bélgica\n",
    "\n",
    "# Deben filtrar la tabla de países y traerla sin Belgium. La tabla de resultados deberá contener los campos id y name de la tabla Country de la base de datos de Fútbol Europeo.\n",
    "\n",
    "query = \"\"\" select id, name\n",
    "                    from country\n",
    "                    where not name = 'Belgium';\"\"\"\n",
    "                \n",
    "consultaNotBelgium = pd.read_sql(query, conex)\n",
    "\n",
    "print(consultaNotBelgium)"
   ]
  },
  {
   "cell_type": "markdown",
   "metadata": {},
   "source": [
    "#### **6.4 Otros operadores que trabajan con la sentencia WHERE**\n",
    "\n",
    "Los siguientes operadores también pueden ser utilizados en la sentencia WHERE:\n",
    "\n",
    "* | **=** : Igual\n",
    "\n",
    "* | **>** :  Mayor que\n",
    "\n",
    "* | **<** : Menor que\n",
    "\n",
    "* | **>=** : Mayor o igual que\n",
    "\n",
    "* | **<=** : Menor o igual que\n",
    "\n",
    "* | **<>** : No igual. Nota: En algunas versiones de **SQL** este operador puede ser escrito como **!=**\n",
    "\n",
    "* | **BETWEEN** : Entre cierto rango\n",
    "\n",
    "* | **LIKE** : Para consultar los datos basados en información parcial, se utiliza el operador LIKE en la sentencia WHERE. Busca un patrón. \n",
    "    * El patrón va antes, después o entre un par de % (wildcard). \n",
    "        * Ejemplo: \n",
    "            * **LIKE** 's%' busca cualquier texto que comience con 's'.\n",
    "            * **LIKE**  '%er' busca cualquier texto que termine con 'er'. \n",
    "            * **LIKE** '%per%' busca cualquier texto que contenga 'per'.\n",
    "\n",
    "* | **IN** : Para especificar varios valores posibles para una columna o subquery. Ejemplo de sintaxis cuando se especifica varios valores:\n",
    "    * **SELECT** column1 \n",
    "    * **FROM** Table_name \n",
    "    * **WHERE** column1 IN (value1, value2);.\n",
    "\n",
    "* Ejemplo se sintaxis cuando se usa IN en una subquery:\n",
    "    * **SELECT** TrackId, Name, AlbumId \n",
    "    * **FROM** Tracks \n",
    "    * **WHERE** AlbumId IN \n",
    "                                                 (SELECT AlbumId \n",
    "                                                 FROM Albums \n",
    "                                                 WHERE ArtistId = 12);"
   ]
  },
  {
   "cell_type": "code",
   "execution_count": 111,
   "metadata": {},
   "outputs": [
    {
     "name": "stdout",
     "output_type": "stream",
     "text": [
      "      id   name\n",
      "0  10257  Italy\n"
     ]
    }
   ],
   "source": [
    "# 6.4.1 Práctica: Traer la tabla de países únicamente con Italia\n",
    "\n",
    "# Deben filtrar la tabla de países y traer únicamente a Italy. La tabla de resultados deberá contener los campos id y name de la tabla Country de la base de datos de Fútbol Europeo.\n",
    "\n",
    "query = \"\"\"select id, name\n",
    "                    from country\n",
    "                    where name = 'Italy';\"\"\"\n",
    "\n",
    "consultaItaly = pd.read_sql(query, conex)\n",
    "\n",
    "print(consultaItaly)"
   ]
  },
  {
   "cell_type": "code",
   "execution_count": 112,
   "metadata": {},
   "outputs": [
    {
     "name": "stdout",
     "output_type": "stream",
     "text": [
      "      id         name\n",
      "0      1      Belgium\n",
      "1   1729      England\n",
      "2   4769       France\n",
      "3   7809      Germany\n",
      "4  10257        Italy\n",
      "5  13274  Netherlands\n",
      "6  17642     Portugal\n",
      "7  19694     Scotland\n",
      "8  21518        Spain\n",
      "9  24558  Switzerland\n"
     ]
    }
   ],
   "source": [
    "# 6.4.2 Práctica: Traer la tabla de países sin Polonia\n",
    "\n",
    "# Deben traer la tabla de países sin Poland. La tabla de resultados deberá contener los campos id y name de la tabla Country de la base de datos de Fútbol Europeo. No se debe utilizar NOT\n",
    "\n",
    "query = \"\"\"select id, name\n",
    "                    from country\n",
    "                    where name != 'Poland';\"\"\"\n",
    "\n",
    "consultaPoland_naiita = pd.read_sql(query, conex)\n",
    "\n",
    "print(consultaPoland_naiita)\n"
   ]
  },
  {
   "cell_type": "code",
   "execution_count": 113,
   "metadata": {},
   "outputs": [
    {
     "name": "stdout",
     "output_type": "stream",
     "text": [
      "     id            player_name             birthday  height  weight\n",
      "0    17  Aaron Taylor-Sinclair  1991-04-08 00:00:00  182.88     176\n",
      "1    34           Abdou Traore  1988-01-17 00:00:00  180.34     174\n",
      "2    39           Abdoulaye Ba  1991-01-01 00:00:00  198.12     174\n",
      "3    43       Abdoulaye Diallo  1992-03-30 00:00:00  187.96     174\n",
      "4    61           Abel Aguilar  1985-01-06 00:00:00  185.42     176\n",
      "5    68     Abella Perez Damia  1982-04-15 00:00:00  187.96     174\n",
      "6    74       Abraham Gonzalez  1985-07-16 00:00:00  177.80     176\n",
      "7    79          Achille Coser  1982-07-14 00:00:00  185.42     174\n",
      "8    89             Adam Banas  1982-12-25 00:00:00  185.42     174\n",
      "9    90            Adam Bodzek  1985-09-07 00:00:00  182.88     174\n",
      "10  102          Adam Dzwigala  1995-09-25 00:00:00  185.42     176\n",
      "11  133       Adam Waszkiewicz  1993-12-06 00:00:00  182.88     174\n",
      "12  136         Adama Francois  1989-11-30 00:00:00  193.04     176\n",
      "13  153         Admir Aganovic  1986-08-25 00:00:00  182.88     176\n",
      "14  154          Admir Mehmedi  1991-03-16 00:00:00  182.88     176\n",
      "15  194                Adriano  1980-01-29 00:00:00  182.88     176\n",
      "16  209           Agon Mehmeti  1989-11-20 00:00:00  182.88     174\n",
      "17  210       Agustin Vuletich  1991-11-03 00:00:00  185.42     174\n",
      "18  221       Ahmed Saied Okka  1984-03-13 00:00:00  185.42     174\n",
      "19  242             Akpo Sodje  1981-01-31 00:00:00  187.96     176\n",
      "20  257            Alan Kardec  1989-01-12 00:00:00  187.96     176\n",
      "21  268          Alassane Plea  1993-03-10 00:00:00  180.34     174\n",
      "22  283          Albert Streit  1980-03-28 00:00:00  180.34     174\n",
      "23  284       Alberto Aquilani  1984-07-07 00:00:00  185.42     174\n",
      "24  285          Alberto Botia  1989-01-27 00:00:00  187.96     176\n",
      "25  293      Alberto Gilardino  1982-07-05 00:00:00  182.88     174\n",
      "26  298       Alberto Luque,21  1978-03-11 00:00:00  182.88     176\n",
      "27  301       Alberto Paloschi  1990-01-04 00:00:00  182.88     176\n",
      "28  313         Albion Avdijaj  1994-01-12 00:00:00  190.50     176\n",
      "29  319          Aleandro Rosi  1987-05-17 00:00:00  182.88     176\n"
     ]
    }
   ],
   "source": [
    "# 6.4.3 Práctica: Listar los jugadores que pesen entre 174 y 176 libras\n",
    "\n",
    "# Queremos listar a los jugadores que cumplan con la condición de pesar entre 174 y 176 libras. En la tabla de resultados quiero ver los campos id,player_name, birthday, height y weight de los que cumplen la condición. Todos se encuentran en la tabla Player. Asimismo, debemos limitar la consulta a 30 registros.\n",
    "\n",
    "query = \"\"\"select id, player_name, birthday, height, weight\n",
    "                    from player\n",
    "                    where weight between 174 and 176\n",
    "                    limit 30;\"\"\"\n",
    "\n",
    "consultaJugadoresPeso_174and176 = pd.read_sql_query(query, conex)\n",
    "\n",
    "print(consultaJugadoresPeso_174and176)"
   ]
  },
  {
   "cell_type": "code",
   "execution_count": 114,
   "metadata": {},
   "outputs": [
    {
     "name": "stdout",
     "output_type": "stream",
     "text": [
      "     id   player_name             birthday  height  weight\n",
      "0  6176  Lionel Messi  1987-06-24 00:00:00  170.18     159\n"
     ]
    }
   ],
   "source": [
    "# 6.4.4 Práctica: Listar a los Messi de la base de datos de jugadores\n",
    "\n",
    "# Queremos listar a los jugadores que cumplan con la condición de tener la palabra 'Messi' en su nombre. En la tabla de resultados quiero ver los campos id,player_name, birthday, height y weight de los que cumplen la condición. Todos se encuentran en la tabla Player\n",
    "\n",
    "query = \"\"\"select id, player_name, birthday, height, weight\n",
    "                    from player\n",
    "                    where player_name like '%Messi%';\"\"\"\n",
    "\n",
    "consultaMessi = pd.read_sql_query(query, conex)\n",
    "\n",
    "print(consultaMessi)"
   ]
  },
  {
   "cell_type": "markdown",
   "metadata": {},
   "source": [
    "### **Alias AS**\n",
    "\n",
    "Los alias en **SQ**L se utilizan para dar a una tabla o a una columna, un nombre temporal. Se utilizan a menudo para hacer más legibles los nombres de las columnas. Un alias sólo existe durante la duración de la consulta.\n",
    "\n",
    "* Sintaxis de **AS**:\n",
    "    * **SELECT** column_name AS alias_name\n",
    "    * **FROM** table_name AS other_alias;"
   ]
  },
  {
   "cell_type": "markdown",
   "metadata": {},
   "source": [
    "## **7. Sentencia ORDER BY**\n",
    "\n",
    "La sentencia **ORDER BY** se utiliza para ordenar el conjunto de resultados en orden ascendente o descendente. Por defecto, los registros se ordenan en orden ascendente **ASC**. Para ordenar los registros en orden descendente, utilice la palabra **DESC**.\n",
    "\n",
    "* Sintaxis de **ORDER BY**\n",
    "    * **SELECT** column1, column2, ...\n",
    "    * **FROM** table_name\n",
    "    * **WHERE** condition\n",
    "    * **ORDER BY** column2 **ASC**|**DESC**;\n"
   ]
  },
  {
   "cell_type": "code",
   "execution_count": 115,
   "metadata": {},
   "outputs": [
    {
     "name": "stdout",
     "output_type": "stream",
     "text": [
      "        id                 team_name\n",
      "0    16848      1. FC Kaiserslautern\n",
      "1    15624                1. FC Köln\n",
      "2    16239            1. FC Nürnberg\n",
      "3    16243           1. FSV Mainz 05\n",
      "4    11817                AC Ajaccio\n",
      "..     ...                       ...\n",
      "294  43800      Xerez Club Deportivo\n",
      "295  31928            Zagłębie Lubin\n",
      "296  33855         Zawisza Bydgoszcz\n",
      "297  11822  Évian Thonon Gaillard FC\n",
      "298  31449             Śląsk Wrocław\n",
      "\n",
      "[299 rows x 2 columns]\n"
     ]
    }
   ],
   "source": [
    "# 7.1.1 Ejemplo: Listar a los equipos y ordenarlos por nombre\n",
    "\n",
    "# Queremos listar a los equipos de la tabla Team y ordenarlos ascedentemente por nombre team_long_name. Adicionalmente, vamos a limitar la lista a 25 registros.\n",
    "\n",
    "query = \"\"\"select id, team_long_name as team_name\n",
    "                    from team\n",
    "                    order by team_name asc;\"\"\"\n",
    "\n",
    "consultaTeam_name = pd.read_sql(query, conex)\n",
    "\n",
    "print(consultaTeam_name)"
   ]
  },
  {
   "cell_type": "code",
   "execution_count": 116,
   "metadata": {},
   "outputs": [
    {
     "name": "stdout",
     "output_type": "stream",
     "text": [
      "       id         name\n",
      "0   24558  Switzerland\n",
      "1   21518        Spain\n",
      "2   19694     Scotland\n",
      "3   17642     Portugal\n",
      "4   15722       Poland\n",
      "5   13274  Netherlands\n",
      "6   10257        Italy\n",
      "7    7809      Germany\n",
      "8    4769       France\n",
      "9    1729      England\n",
      "10      1      Belgium\n"
     ]
    }
   ],
   "source": [
    "# 7.1.2 Práctica: Listar la tabla de países en orden descendente\n",
    "\n",
    "# Deben listar la tabla Country de forma descendente DESC por el campos name. La tabla de resultados deberá contener los campos id y name\n",
    "\n",
    "query = \"\"\"select id, name\n",
    "                    from country\n",
    "                    order by name desc;\"\"\"\n",
    "\n",
    "consultaName = pd.read_sql(query, conex)\n",
    "\n",
    "print(consultaName)"
   ]
  },
  {
   "cell_type": "code",
   "execution_count": 117,
   "metadata": {},
   "outputs": [
    {
     "name": "stdout",
     "output_type": "stream",
     "text": [
      "          id       player_name  weight\n",
      "0       5453        Juan Quero     117\n",
      "1       6853   Mariusz Rybicki     121\n",
      "2      10954   Yohandry Orozco     121\n",
      "3       1480           Caetano     123\n",
      "4       2612  Diego Buonanotte     123\n",
      "...      ...               ...     ...\n",
      "11055   6772  Marcus Hahnemann     220\n",
      "11056   4412    Ishmael Miller     225\n",
      "11057   4884  Jeroen Verhoeven     227\n",
      "11058   5908  Kristof van Hout     243\n",
      "11059  10313         Tim Wiese     243\n",
      "\n",
      "[11060 rows x 3 columns]\n"
     ]
    }
   ],
   "source": [
    "# 7.1.3 Práctica: Listar el id de los 15 jugadores con menos peso\n",
    "\n",
    "# Deben listar la tabla Player de forma ascendente ASC por el campo weight. La tabla de resultados deberá contener los campos id, player_name y weight\n",
    "\n",
    "query = \"\"\"select id, player_name, weight\n",
    "                    from player\n",
    "                    order by weight  asc;\"\"\"\n",
    "\n",
    "consultaOrder = pd.read_sql(query, conex)\n",
    "\n",
    "print(consultaOrder)"
   ]
  },
  {
   "cell_type": "code",
   "execution_count": 118,
   "metadata": {},
   "outputs": [
    {
     "name": "stdout",
     "output_type": "stream",
     "text": [
      "         id        player_name  height\n",
      "0      5908   Kristof van Hout  208.28\n",
      "1      1301       Bogdan Milic  203.20\n",
      "2      1926  Costel Pantilimon  203.20\n",
      "3      3274       Fejsal Mulic  203.20\n",
      "4      5568      Jurgen Wevers  203.20\n",
      "...     ...                ...     ...\n",
      "11055  8686      Quentin Othon  162.56\n",
      "11056  9441     Samuel Asamoah  162.56\n",
      "11057  2612   Diego Buonanotte  160.02\n",
      "11058  7258       Maxi Moralez  160.02\n",
      "11059  5453         Juan Quero  157.48\n",
      "\n",
      "[11060 rows x 3 columns]\n"
     ]
    }
   ],
   "source": [
    "# 7.1.4 Práctica: Listar el id de los 10 jugadores con mayor estatura\n",
    "\n",
    "# Deben listar la tabla Player de forma descendente DESC por el campos height. La tabla de resultados deberá contener los campos id, player_name y height.\n",
    "\n",
    "query = \"\"\"select id, player_name, height\n",
    "                    from  player\n",
    "                    order by height desc;\"\"\"\n",
    "\n",
    "consultaOrderHeight = pd.read_sql(query, conex)\n",
    "\n",
    "print(consultaOrderHeight)"
   ]
  },
  {
   "cell_type": "code",
   "execution_count": 119,
   "metadata": {},
   "outputs": [
    {
     "name": "stdout",
     "output_type": "stream",
     "text": [
      "         id        player_name  height\n",
      "0      5453         Juan Quero  157.48\n",
      "1      7258       Maxi Moralez  160.02\n",
      "2      2612   Diego Buonanotte  160.02\n",
      "3      9441     Samuel Asamoah  162.56\n",
      "4      8686      Quentin Othon  162.56\n",
      "...     ...                ...     ...\n",
      "11055  5568      Jurgen Wevers  203.20\n",
      "11056  3274       Fejsal Mulic  203.20\n",
      "11057  1926  Costel Pantilimon  203.20\n",
      "11058  1301       Bogdan Milic  203.20\n",
      "11059  5908   Kristof van Hout  208.28\n",
      "\n",
      "[11060 rows x 3 columns]\n"
     ]
    }
   ],
   "source": [
    "# 7.1.5 Práctica: Listar el id de los 10 jugadores con mayor estatura y ordenarlos alfabéticamente pero de forma descendente\n",
    "\n",
    "# Deben listar la tabla Player de forma descendente DESC por el campos height y player_name. La tabla de resultados deberá contener los campos id, player_name y height.\n",
    "\n",
    "query = \"\"\"select id, player_name, height\n",
    "                    from player\n",
    "                    order by height, player_name desc;\"\"\"\n",
    "\n",
    "consultaOrdertwo = pd.read_sql_query(query, conex)\n",
    "\n",
    "print(consultaOrdertwo)"
   ]
  },
  {
   "cell_type": "markdown",
   "metadata": {},
   "source": [
    "## **8. Sentencia GROUP BY**\n",
    "\n",
    "La sentencia **GROUP BY** agrupa las filas que tienen los mismos valores en filas de resumen, como \"encontrar el número de clientes en cada país\". Se utiliza sobre dimensiones y métricas para agrupar el conjunto de resultados en una o más columnas.\n",
    "\n",
    "Las dimensiones son todos aquellos valores que estamos describiendo en el **SELECT**. Y las métricas son que se utilizan a menudo con funciones agregativas **(COUNT, MAX, MIN, SUM, AVG)**.\n",
    "\n",
    "* Sintaxis de **GROUP BY :**\n",
    "    * **SELECT** column1, column2, ...\n",
    "    * **FROM** table_name\n",
    "    * **WHERE** condition\n",
    "    * **GROUP BY** column1\n",
    "    * **ORDER** BY column2 ASC|DESC;\n",
    "\n",
    "Nota: El uso de **WHERE** antes de **GROUP BY** hace que este se ejecute más rápido, ya que el motor de base de datos no se tomará el tiempo de agrupar cosas que no necesita.\n",
    "\n",
    "Nota2: Es muy importante utilizar las mismas dimensiones tanto en el **SELECT**, como en el **GROUP BY**. De lo contrario, la salida podría ser errónea."
   ]
  },
  {
   "cell_type": "code",
   "execution_count": 120,
   "metadata": {},
   "outputs": [
    {
     "name": "stdout",
     "output_type": "stream",
     "text": [
      "  buildUpPlaySpeedClass  count(id)\n",
      "0              Balanced       1184\n",
      "1                  Fast        172\n",
      "2                  Slow        102\n"
     ]
    }
   ],
   "source": [
    "# 8.1.1 Ejemplo: Queremos conocer cuántos equipos tienen cada tipo de velocidad de juego\n",
    "\n",
    "# Queremos conocer cuántos equipos de la tabla Team_Attributes tienen cada tipo de velocidad juego. Es decir: cuántos tienen buildUpPlaySpeedClass = 'Fast', buildUpPlaySpeedClass = 'Balanced' y cuántos buildUpPlaySpeedClass = 'Slow'\n",
    "\n",
    "query = \"\"\"select buildUpPlaySpeedClass, count(id)\n",
    "                    from team_attributes\n",
    "                    group by buildUpPlaySpeedClass;\"\"\"\n",
    "\n",
    "consultabuildUpPlaySpeedClass = pd.read_sql(query, conex)\n",
    "\n",
    "print(consultabuildUpPlaySpeedClass)"
   ]
  },
  {
   "cell_type": "code",
   "execution_count": 121,
   "metadata": {},
   "outputs": [
    {
     "name": "stdout",
     "output_type": "stream",
     "text": [
      "  defencePressureClass  conteo\n",
      "0                 Deep     154\n",
      "1                 High      61\n",
      "2               Medium    1243\n"
     ]
    }
   ],
   "source": [
    "#  8.1.2 Práctica: Queremos conocer cuántos equipos tienen cada clase de juego defensivo\n",
    "\n",
    "# Queremos conocer cuantos equipos de la tabla Team_Attributes que tienen cada clase de juego defensivo. Es decir: cuántos defencePressureClass = 'Medium', defencePressureClass = 'Deep' y defencePressureClass = 'High'\n",
    "\n",
    "query = \"\"\"select defencePressureClass, count(defencePressureClass) as conteo\n",
    "                    from team_attributes\n",
    "                    group by defencePressureClass;\"\"\"\n",
    "\n",
    "\n",
    "consultadefencePressureClas = pd.read_sql(query,conex)\n",
    "\n",
    "print(consultadefencePressureClas)"
   ]
  },
  {
   "cell_type": "code",
   "execution_count": 122,
   "metadata": {},
   "outputs": [
    {
     "name": "stdout",
     "output_type": "stream",
     "text": [
      "| season    |   number_of_stage |   avg_home_team_goals |   avg_away_team_goals |   total_goals |\n",
      "|-----------|-------------------|-----------------------|-----------------------|---------------|\n",
      "| 2008/2009 |                38 |               1.50541 |               1.10192 |          8672 |\n",
      "| 2009/2010 |                38 |               1.54118 |               1.13127 |          8632 |\n",
      "| 2010/2011 |                38 |               1.54847 |               1.13528 |          8749 |\n",
      "| 2011/2012 |                38 |               1.57267 |               1.14379 |          8747 |\n",
      "| 2012/2013 |                38 |               1.55    |               1.2227  |          9039 |\n",
      "| 2013/2014 |                38 |               1.57883 |               1.18799 |          8389 |\n",
      "| 2014/2015 |                38 |               1.5203  |               1.15549 |          8897 |\n",
      "| 2015/2016 |                38 |               1.5439  |               1.21076 |          9162 |\n"
     ]
    }
   ],
   "source": [
    "# 8.1.3 Práctica: Analítica básica de las temporadas}\n",
    "\n",
    "# Queremos realizar un sencillo análisis sobre la tabla Match. Se necesita obtener la siguiente información agrupada por cada season:\n",
    "    # Cuantas stage distintas tuvo y visualizarlo como number_of_stages\n",
    "    # El promedio de los goles de equipos locales home_team_goal y visualizarlo como avg_home_team_goals\n",
    "    # El promedio de los goles de equipos visitantes away_team_goal y visualizarlo como avg_away_team_goals\n",
    "    # La suma total de goles realizados por los equipos locales y visitantes en la temporada, visualizandolo como total_goals.\n",
    "    # Asimismo, se requere ver la información de las temporadas más recientes primero.\n",
    "\n",
    "query = \"\"\"select season, count(distinct(stage)) as number_of_stage, avg(home_team_goal) as avg_home_team_goals, avg(away_team_goal) as avg_away_team_goals, sum(away_team_goal + home_team_goal) as total_goals\n",
    "                    from match\n",
    "                    group by season;\"\"\" \n",
    "\n",
    "consultaGroupby01 = pd.read_sql(query, conex)\n",
    "\n",
    "print(tabulate(consultaGroupby01, headers='keys', tablefmt='github', showindex=False))"
   ]
  },
  {
   "cell_type": "markdown",
   "metadata": {},
   "source": [
    "## **9. Sentencias JOIN**\n",
    "\n",
    "**JOIN** se usa cuando se quiere conectar dos tablas entre sí. Funciona cuando tienes una clave común en cada una de ellas. Entender el concepto de Claves es crucial para conectar (unir) conjuntos de datos (tablas).\n",
    "\n",
    "> Recuerden: Una clave es un valor que podemos usar para referirnos a una fila o registro específico de una tabla. Puede consistir en un valor (celda) que generalmente es un ID, o de una combinación de valores que son únicos en la tabla (clave compuesta).\n",
    "\n",
    "* Sintaxis de JOIN;\n",
    "    * **SELECT** first_table.column1, firts_table.column2, second_table.columnA, second_table.columnB ...\n",
    "    * **FROM** first_table (LEFT | RIGHT | FULL) \n",
    "    * **JOIN** second_table \n",
    "    * **ON** first_table.columnID = second_table.columnID;\n",
    "\n",
    "### **9.1 Tipos de JOIN**\n",
    "\n",
    "* **JOIN**: mantiene sólo los registros que coinciden con la condición (después del ON) en ambas tablas, y los registros de ambas tablas que no coincidan, no aparecerían en la tabla de resultado.\n",
    "\n",
    "* **LEFT JOIN**: devuelve todos los registros de la primera tabla (izquierda), y los registros coincidentes de la segunda tabla (derecha). El resultado es NULL del lado derecho, si no hay coincidencia.\n",
    "\n",
    "* **RIGHT JOIN**: devuelve todos los registros de la segunda tabla (derecha), y los registros coincidentes de la primera tabla (izquierda). El resultado es NULL del lado izquierdo, si no hay coincidencia.\n",
    "\n",
    "* **FULL JOIN**: devuelve todos los registros cuando hay una coincidencia en los registros de la primera tabla (izquierda) o segunda tabla (derecha). Nota: FULL JOIN puede potencialmente devolver conjuntos de resultados MUY grandes.\n",
    "\n",
    "Cuando se quiere unir diferentes tablas, es necesario que pienses en lo siguiente:\n",
    "\n",
    "1. Decidir qué tipo de unión usar. Las más comunes son: JOIN y LEFT JOIN.\n",
    "2. Especificar el valor común que se utiliza para conectar las tablas (la clave).\n",
    "3. Asegurarse de que al menos uno de los valores tiene que ser una clave en su tabla.\n",
    "\n",
    "Y por último, ¡Paciencia! Usar los JOIN de forma incorrecta, es el error más común (y a veces peligroso) cuando se escriben consultas complicadas."
   ]
  },
  {
   "cell_type": "code",
   "execution_count": 123,
   "metadata": {},
   "outputs": [
    {
     "name": "stdout",
     "output_type": "stream",
     "text": [
      "    Id_League             Nombre_league         Pais\n",
      "0           1    Belgium Jupiler League      Belgium\n",
      "1        1729    England Premier League      England\n",
      "2        4769            France Ligue 1       France\n",
      "3        7809     Germany 1. Bundesliga      Germany\n",
      "4       10257             Italy Serie A        Italy\n",
      "5       13274    Netherlands Eredivisie  Netherlands\n",
      "6       15722        Poland Ekstraklasa       Poland\n",
      "7       17642  Portugal Liga ZON Sagres     Portugal\n",
      "8       19694   Scotland Premier League     Scotland\n",
      "9       21518           Spain LIGA BBVA        Spain\n",
      "10      24558  Switzerland Super League  Switzerland\n"
     ]
    }
   ],
   "source": [
    "# 9.2.1 Ejemplo: Lista de ligas y su país\n",
    "\n",
    "# Queremos conocer a qué país corresponde cada liga. Para hacerlo, vamos a necesitar la información de las tablas Countryy League, uniendolas por su clave en común: Country.id = League.country_id.\n",
    "\n",
    "query = \"\"\"select L.id as Id_League, L.name as Nombre_league, c.name as Pais\n",
    "                    from league as L\n",
    "                    join country as c\n",
    "                    on c.id = L.country_id;\"\"\"\n",
    "\n",
    "consultaJoin = pd.read_sql(query, conex)\n",
    "\n",
    "print(consultaJoin)"
   ]
  },
  {
   "cell_type": "code",
   "execution_count": 124,
   "metadata": {},
   "outputs": [
    {
     "name": "stdout",
     "output_type": "stream",
     "text": [
      "     id_partido  temporada     pais\n",
      "0             1  2008/2009  Belgium\n",
      "1             2  2008/2009  Belgium\n",
      "2             3  2008/2009  Belgium\n",
      "3             4  2008/2009  Belgium\n",
      "4             5  2008/2009  Belgium\n",
      "..          ...        ...      ...\n",
      "681       21893  2008/2009    Spain\n",
      "682       21894  2008/2009    Spain\n",
      "683       21895  2008/2009    Spain\n",
      "684       21896  2008/2009    Spain\n",
      "685       21897  2008/2009    Spain\n",
      "\n",
      "[686 rows x 3 columns]\n"
     ]
    }
   ],
   "source": [
    "# 9.2.2 Práctica: Comparación de cantidad de partidos jugados en cierta temporada de España y Bélgica\n",
    "\n",
    "# Queremos realizar una comparación de la cantidad de partidos jugados en season = '2008/2009' entre los países 'Spain' y 'Belgium'. Los datos necesarios se encuentran en las tablas Match y Country. Asimismo, la tabla de resultados debe visualizarse de la siguiente manera:\n",
    "\n",
    "query = \"\"\" select m.id as id_partido, \n",
    "                                m.season as temporada,\n",
    "                                c.name as pais\n",
    "                    from match as m\n",
    "                    join country as c\n",
    "                    on m.country_id = c.id\n",
    "                    where m.season = '2008/2009' and c.name in ('Spain', 'Belgium');\"\"\"\n",
    "\n",
    "consultaJoin02 = pd.read_sql_query(query, conex)\n",
    "\n",
    "print(consultaJoin02)"
   ]
  },
  {
   "cell_type": "markdown",
   "metadata": {},
   "source": [
    "\n",
    "**9.2.3 Práctica: Lista detallada de juegos**\n",
    "\n",
    "Queremos un detalle de 10 juegos realizados en el país Spain, ordenado de forma ascendente por date.\n",
    "\n",
    "Lo que nos interesa ver es:\n",
    "\n",
    "* el id del encuentro,\n",
    "* el Country.name bajo alias country_name,\n",
    "* el League.name bajo alias league_name,\n",
    "* season,\n",
    "* stage,\n",
    "* date,\n",
    "* el team_long_name del equipo local bajo alias home_team,\n",
    "* el team_long_name del equipo visitante bajo alias away_team,\n",
    "* home_team_goal y\n",
    "* away_team_goal\n",
    "\n",
    "Esta información se encuentra repartida entre las tablas: \n",
    "* Match \n",
    "* Country \n",
    "* League \n",
    "* Team. \n",
    "\n",
    "Teniendo en cuenta que las claves compartidas entre tablas son estas:\n",
    "\n",
    "* Country.id = Match.country_id\n",
    "* League.id = Match.league_id\n",
    "* Team.team_api_id = Match.home_team_api_id"
   ]
  },
  {
   "cell_type": "code",
   "execution_count": 125,
   "metadata": {},
   "outputs": [
    {
     "name": "stdout",
     "output_type": "stream",
     "text": [
      "      Id_encuentro country_name      league_name     season  stage  \\\n",
      "0            21518        Spain  Spain LIGA BBVA  2008/2009      1   \n",
      "1            21519        Spain  Spain LIGA BBVA  2008/2009      1   \n",
      "2            21520        Spain  Spain LIGA BBVA  2008/2009      1   \n",
      "3            21521        Spain  Spain LIGA BBVA  2008/2009      1   \n",
      "4            21522        Spain  Spain LIGA BBVA  2008/2009      1   \n",
      "...            ...          ...              ...        ...    ...   \n",
      "3035         24553        Spain  Spain LIGA BBVA  2015/2016      9   \n",
      "3036         24554        Spain  Spain LIGA BBVA  2015/2016      9   \n",
      "3037         24555        Spain  Spain LIGA BBVA  2015/2016      9   \n",
      "3038         24556        Spain  Spain LIGA BBVA  2015/2016      9   \n",
      "3039         24557        Spain  Spain LIGA BBVA  2015/2016      9   \n",
      "\n",
      "                     date                  home_team away_team  \\\n",
      "0     2008-08-30 00:00:00                Valencia CF       MAL   \n",
      "1     2008-08-31 00:00:00                 CA Osasuna       VIL   \n",
      "2     2008-08-31 00:00:00  RC Deportivo de La Coruña       REA   \n",
      "3     2008-08-31 00:00:00                CD Numancia       BAR   \n",
      "4     2008-08-31 00:00:00           Racing Santander       SEV   \n",
      "...                   ...                        ...       ...   \n",
      "3035  2015-10-25 00:00:00            Atlético Madrid       VAL   \n",
      "3036  2015-10-24 00:00:00                  Málaga CF       COR   \n",
      "3037  2015-10-26 00:00:00    Athletic Club de Bilbao       SPG   \n",
      "3038  2015-10-24 00:00:00                 Granada CF       BET   \n",
      "3039  2015-10-23 00:00:00             Rayo Vallecano       ESP   \n",
      "\n",
      "      home_team_goal  away_team_goal  \n",
      "0                  3               0  \n",
      "1                  1               1  \n",
      "2                  2               1  \n",
      "3                  1               0  \n",
      "4                  1               1  \n",
      "...              ...             ...  \n",
      "3035               2               1  \n",
      "3036               2               0  \n",
      "3037               3               0  \n",
      "3038               1               1  \n",
      "3039               3               0  \n",
      "\n",
      "[3040 rows x 10 columns]\n"
     ]
    }
   ],
   "source": [
    "query = \"\"\"select \n",
    "                            m.id                             as Id_encuentro,\n",
    "                            c.name                        as country_name,\n",
    "                            l.name                         as league_name,\n",
    "                            m.season,\n",
    "                            m.stage,\n",
    "                            m.date,\n",
    "                            ht.team_long_name   as home_team,\n",
    "                            at.team_short_name as away_team,\n",
    "                            m.home_team_goal,\n",
    "                            m.away_team_goal\n",
    "                    from \n",
    "                        country as c\n",
    "                    join \n",
    "                        league as l\n",
    "                                on c.id = l.country_id\n",
    "                    join \n",
    "                        match as m\n",
    "                                on c.id = m.country_id and l.id = m.league_id\n",
    "                    join \n",
    "                        team as ht\n",
    "                                on m.home_team_api_id = ht.team_api_id\n",
    "                    join \n",
    "                        team as at\n",
    "                                on m.away_team_api_id = at.team_api_id\n",
    "                    where c.name = 'Spain';\"\"\"\n",
    "\n",
    "\n",
    "consultaJoin03 = pd.read_sql(query, conex)\n",
    "\n",
    "print(consultaJoin03)\n"
   ]
  },
  {
   "cell_type": "markdown",
   "metadata": {},
   "source": [
    "## **10. Sentencia HAVING**\n",
    "\n",
    "La sentencia **HAVING** fue añadida a **SQL** porque la palabra clave **WHERE** no podía ser usada con funciones agregativas. Entonces, **HAVING** es como el **WHERE** para las funciones agregativas.\n",
    "\n",
    "La sintaxis de **HAVING** es así:\n",
    "\n",
    "* **SELECT** column_name(s)\n",
    "* **FROM** table_name\n",
    "* **WHERE** condition\n",
    "* **GROUP BY** column_name(s)\n",
    "* **HAVING** condition\n",
    "* **ORDER BY** column_name(s);\n",
    "* **HAVING** añade otra capa de filtrado a los datos, esta vez sobre el resultado de la tabla después de la agrupación. Muchas veces se utiliza para limpiar la salida."
   ]
  },
  {
   "cell_type": "markdown",
   "metadata": {},
   "source": [
    "### **Función ROUND() para redondear**\n",
    "\n",
    "En **SQLite** La función **ROUND()** se utiliza para redondear un número decimal dado a las posiciones decimales especificadas basándose en un número de decimales dado.\n",
    "\n",
    "La sintaxis, es la siguiente: \n",
    "\n",
    "**ROUND**( number, decimal_value )\n",
    "\n",
    "* Donde:\n",
    "    * **number:** Es el número decimal que necesitamos redondear.\n",
    "    * **decimal_value:** Define el número de decimales a redondear.\n",
    "\n",
    "Si *decimal_value* es un número positivo significa que el número se redondea hasta cerca de su valor.\n",
    "En caso de que *decimal_value* se omita o sea negativo, se toma el valor por defecto que es cero (0) y el número se redondeará a cero (0) decimales, pero el número seguirá siendo un valor de punto flotante."
   ]
  },
  {
   "cell_type": "markdown",
   "metadata": {},
   "source": [
    "**10.1.1 Ejemplo: Análisis de goles por temporada en las ligas de España, Francia e Inglaterra.**\n",
    "\n",
    "Queremos saber en qué temporada el promedio de goles de equipos locales estuvo entre 1.4 y 1.6, para las ligas de Spain, France y England.\n",
    "\n",
    "La tabla de resultados deberá mostrar:\n",
    "\n",
    "* La temporada season,\n",
    "* el Country.name bajo alias country,\n",
    "* el League.name bajo alias league,\n",
    "* el promedio de goles hechos por equipos locales, bajo el alias avg_local_goals, redondeando con 2 decimales,\n",
    "* el promedio de goles hechos por equipos visitantes, bajo el alias avg_visitor_goals, redondeando con 2 decimales,\n",
    "* el total de goles por temporada y liga, bajo el alias total_goals,\n",
    "\n",
    "Esta información se encuentra repartida entre las tablas: \n",
    "\n",
    "* Match \n",
    "* Country\n",
    "* League. \n",
    "\n",
    "Teniendo en cuenta que las claves compartidas entre tablas son estas:\n",
    "\n",
    "* Country.id = Match.country_id\n",
    "* League.id = Match.league_id"
   ]
  },
  {
   "cell_type": "code",
   "execution_count": 126,
   "metadata": {},
   "outputs": [
    {
     "name": "stdout",
     "output_type": "stream",
     "text": [
      "       season  country                  league  avg_local_goals  \\\n",
      "0   2008/2009  England  England Premier League             1.40   \n",
      "1   2009/2010    Spain         Spain LIGA BBVA             1.60   \n",
      "2   2011/2012  England  England Premier League             1.59   \n",
      "3   2011/2012   France          France Ligue 1             1.47   \n",
      "4   2012/2013  England  England Premier League             1.56   \n",
      "5   2012/2013   France          France Ligue 1             1.47   \n",
      "6   2013/2014  England  England Premier League             1.57   \n",
      "7   2013/2014   France          France Ligue 1             1.42   \n",
      "8   2014/2015  England  England Premier League             1.47   \n",
      "9   2014/2015   France          France Ligue 1             1.41   \n",
      "10  2014/2015    Spain         Spain LIGA BBVA             1.54   \n",
      "11  2015/2016  England  England Premier League             1.49   \n",
      "12  2015/2016   France          France Ligue 1             1.44   \n",
      "\n",
      "    avg_visitor_goals  total_goals  \n",
      "0                1.08          942  \n",
      "1                1.11         1031  \n",
      "2                1.22         1066  \n",
      "3                1.04          956  \n",
      "4                1.24         1063  \n",
      "5                1.08          967  \n",
      "6                1.19         1052  \n",
      "7                1.04          933  \n",
      "8                1.09          975  \n",
      "9                1.08          947  \n",
      "10               1.12         1009  \n",
      "11               1.21         1026  \n",
      "12               1.09          960  \n"
     ]
    }
   ],
   "source": [
    "query = \"\"\"select \n",
    "                        m.season,\n",
    "                        c.name as country,\n",
    "                        l.name as league,\n",
    "                        round(avg(m.home_team_goal), 2) as avg_local_goals,\n",
    "                        round(avg(m.away_team_goal), 2) as avg_visitor_goals,\n",
    "                        sum(m.home_team_goal + m.away_team_goal) as total_goals\n",
    "                    from \n",
    "                        match as m\n",
    "                    join\n",
    "                        country as c\n",
    "                            on c.id = m.country_id\n",
    "                    join\n",
    "                        league as l\n",
    "                            on l.id = m.league_id and l.country_id = c.id\n",
    "                    where \n",
    "                        c.name in ('Spain', 'France', 'England')\n",
    "                    group by \n",
    "                        m.season, c.name, l.name\n",
    "                    having\n",
    "                        round(avg(m.home_team_goal), 2) between 1.4 and 1.6;\n",
    "\"\"\"\n",
    "\n",
    "consultaHaving = pd.read_sql(query, conex)\n",
    "\n",
    "print(consultaHaving)"
   ]
  },
  {
   "cell_type": "markdown",
   "metadata": {},
   "source": [
    "**10.1.2 Práctica: Nos basaremos en ejemplo \"Lista detallada de juegos\", pero eliminaremos la información del partido y fechas, para comparar las ligas por temporadas.**\n",
    "\n",
    "Para las ligas de los paises *Spain*, *Germany*, *France*, *Italy* y *England* que tengan un promedio de goles por partido mayor a $2.5$, queremos conocer:\n",
    "\n",
    "* El nombre del país del equipo como Country,\n",
    "* El nombre de la liga en la que juega como League,\n",
    "* La cantidad de partidos (stages) como Stages,\n",
    "* La temporada como Season,\n",
    "* La cantidad de equipos como number_of_teams,\n",
    "* El promedio de goles realizados por los equipos locales como avg_local_goals,redondeando con 2 decimales,\n",
    "* El promedio de goles realizados por los equipos visitantes como avg_visitor_goals,redondeando con 2 decimales,\n",
    "* El promedio de goles por partido como avg_goals,redondeando con 2 decimales,\n",
    "* El promedio de gol diferencia por partido como avg_goal_dif,redondeando con 2 decimales,\n",
    "* El total de goles realizados en la temporada como total_goals\n",
    "\n",
    "Esta información se encuentra repartida entre las tablas: \n",
    "\n",
    "* Match \n",
    "* Country \n",
    "* League  \n",
    "* Team \n",
    "\n",
    "Teniendo en cuenta que las claves compartidas entre tablas son estas:\n",
    "\n",
    "* Country.id = Match.country_id\n",
    "* League.id = Match.league_id\n",
    "* Team.team_api_id = Match.home_team_api_id\n",
    "\n"
   ]
  },
  {
   "cell_type": "code",
   "execution_count": 127,
   "metadata": {},
   "outputs": [
    {
     "name": "stdout",
     "output_type": "stream",
     "text": [
      "    Country                  League  Stages     Season  number_of_teams  \\\n",
      "0   England  England Premier League      38  2009/2010               20   \n",
      "1   England  England Premier League      38  2010/2011               20   \n",
      "2   England  England Premier League      38  2011/2012               20   \n",
      "3   England  England Premier League      38  2012/2013               20   \n",
      "4   England  England Premier League      38  2013/2014               20   \n",
      "5   England  England Premier League      38  2014/2015               20   \n",
      "6   England  England Premier League      38  2015/2016               20   \n",
      "7    France          France Ligue 1      38  2011/2012               20   \n",
      "8    France          France Ligue 1      38  2012/2013               20   \n",
      "9    France          France Ligue 1      38  2015/2016               20   \n",
      "10  Germany   Germany 1. Bundesliga      34  2008/2009               18   \n",
      "11  Germany   Germany 1. Bundesliga      34  2009/2010               18   \n",
      "12  Germany   Germany 1. Bundesliga      34  2010/2011               18   \n",
      "13  Germany   Germany 1. Bundesliga      34  2011/2012               18   \n",
      "14  Germany   Germany 1. Bundesliga      34  2012/2013               18   \n",
      "15  Germany   Germany 1. Bundesliga      34  2013/2014               18   \n",
      "16  Germany   Germany 1. Bundesliga      34  2014/2015               18   \n",
      "17  Germany   Germany 1. Bundesliga      34  2015/2016               18   \n",
      "18    Italy           Italy Serie A      38  2008/2009               20   \n",
      "19    Italy           Italy Serie A      38  2009/2010               20   \n",
      "20    Italy           Italy Serie A      38  2010/2011               20   \n",
      "21    Italy           Italy Serie A      38  2011/2012               20   \n",
      "22    Italy           Italy Serie A      38  2012/2013               20   \n",
      "23    Italy           Italy Serie A      38  2013/2014               20   \n",
      "24    Italy           Italy Serie A      38  2014/2015               20   \n",
      "25    Italy           Italy Serie A      38  2015/2016               20   \n",
      "26    Spain         Spain LIGA BBVA      38  2008/2009               20   \n",
      "27    Spain         Spain LIGA BBVA      38  2009/2010               20   \n",
      "28    Spain         Spain LIGA BBVA      38  2010/2011               20   \n",
      "29    Spain         Spain LIGA BBVA      38  2011/2012               20   \n",
      "30    Spain         Spain LIGA BBVA      38  2012/2013               20   \n",
      "31    Spain         Spain LIGA BBVA      38  2013/2014               20   \n",
      "32    Spain         Spain LIGA BBVA      38  2014/2015               20   \n",
      "33    Spain         Spain LIGA BBVA      38  2015/2016               20   \n",
      "\n",
      "    avg_local_goals  avg_visitor_goals  avg_goals  avg_goal_dif  total_goals  \n",
      "0              1.70               1.07       2.77          1.47         1053  \n",
      "1              1.62               1.17       2.80          1.28         1063  \n",
      "2              1.59               1.22       2.81          1.44         1066  \n",
      "3              1.56               1.24       2.80          1.25         1063  \n",
      "4              1.57               1.19       2.77          1.52         1052  \n",
      "5              1.47               1.09       2.57          1.29          975  \n",
      "6              1.49               1.21       2.70          1.29         1026  \n",
      "7              1.47               1.04       2.52          1.18          956  \n",
      "8              1.47               1.08       2.54          1.24          967  \n",
      "9              1.44               1.09       2.53          1.33          960  \n",
      "10             1.70               1.22       2.92          1.43          894  \n",
      "11             1.51               1.32       2.83          1.35          866  \n",
      "12             1.65               1.27       2.92          1.49          894  \n",
      "13             1.66               1.20       2.86          1.48          875  \n",
      "14             1.59               1.34       2.93          1.43          898  \n",
      "15             1.75               1.41       3.16          1.60          967  \n",
      "16             1.59               1.17       2.75          1.34          843  \n",
      "17             1.57               1.26       2.83          1.46          866  \n",
      "18             1.52               1.08       2.60          1.28          988  \n",
      "19             1.54               1.07       2.61          1.17          992  \n",
      "20             1.43               1.08       2.51          1.21          955  \n",
      "21             1.51               1.07       2.58          1.28          925  \n",
      "22             1.49               1.14       2.64          1.31         1003  \n",
      "23             1.54               1.19       2.72          1.35         1035  \n",
      "24             1.50               1.19       2.69          1.19         1018  \n",
      "25             1.47               1.11       2.58          1.30          979  \n",
      "26             1.66               1.24       2.90          1.38         1101  \n",
      "27             1.60               1.11       2.71          1.39         1031  \n",
      "28             1.64               1.11       2.74          1.47         1042  \n",
      "29             1.68               1.08       2.76          1.47         1050  \n",
      "30             1.69               1.18       2.87          1.43         1091  \n",
      "31             1.63               1.12       2.75          1.50         1045  \n",
      "32             1.54               1.12       2.66          1.48         1009  \n",
      "33             1.62               1.13       2.74          1.50         1043  \n"
     ]
    }
   ],
   "source": [
    "query =\"\"\"SELECT \n",
    "    c.name AS Country,\n",
    "    l.name AS League,\n",
    "    COUNT(DISTINCT m.stage) AS Stages,\n",
    "    m.season AS Season,\n",
    "    COUNT(DISTINCT m.home_team_api_id) AS number_of_teams,\n",
    "    ROUND(AVG(m.home_team_goal), 2) AS avg_local_goals,\n",
    "    ROUND(AVG(m.away_team_goal), 2) AS avg_visitor_goals,\n",
    "    ROUND(AVG(m.home_team_goal + m.away_team_goal), 2) AS avg_goals,\n",
    "    ROUND(AVG(ABS(m.home_team_goal - m.away_team_goal)), 2) AS avg_goal_dif,\n",
    "    SUM(m.home_team_goal + m.away_team_goal) AS total_goals\n",
    "FROM \n",
    "    match AS m\n",
    "JOIN \n",
    "    country AS c ON c.id = m.country_id\n",
    "JOIN \n",
    "    league AS l ON l.id = m.league_id\n",
    "JOIN \n",
    "    team AS t ON t.team_api_id = m.home_team_api_id\n",
    "WHERE \n",
    "    c.name IN ('Spain', 'Germany', 'France', 'Italy', 'England')\n",
    "GROUP BY \n",
    "    c.name, l.name, m.season\n",
    "HAVING \n",
    "    ROUND(AVG(m.home_team_goal + m.away_team_goal), 2) > 2.5;\n",
    "\"\"\"\n",
    "\n",
    "consultaHaving02 = pd.read_sql(query, conex)\n",
    "\n",
    "print(consultaHaving02)"
   ]
  },
  {
   "cell_type": "markdown",
   "metadata": {},
   "source": [
    "**10.1.3 Práctica: Análisis sobre los equipos que más goles realizaron jugando como locales**\n",
    "\n",
    "Queremos un detalle de los equipos que jugando como locales en las ligas de Spain, Germany y England, hayan anotado más de 50 goles. Ordenar de forma descendente por temporada y por equipo con más goles realizados. Nos interesa conocer:\n",
    "\n",
    "* El nombre del país del equipo como Country\n",
    "* El nombre de la liga en la que juega como League\n",
    "* El nombre del equipo como Team\n",
    "* La cantidad de partidos (stages) como Stages\n",
    "* La temporada como Season\n",
    "* La suma de goles realizados en esa temporada, jugando como local bajo el alias sum_goals\n",
    "* El promedio de goles bajo alias avg_goals, redondeando con 2 decimales\n",
    "\n",
    "Esta información se encuentra repartida entre las tablas: Match, Country, League y Team. Teniendo en cuenta que las claves compartidas entre tablas son estas:\n",
    "\n",
    "* Country.id = Match.country_id\n",
    "* League.id = Match.league_id\n",
    "* Team.team_api_id = Match.home_team_api_id"
   ]
  },
  {
   "cell_type": "code",
   "execution_count": 128,
   "metadata": {},
   "outputs": [
    {
     "name": "stdout",
     "output_type": "stream",
     "text": [
      "    Country                  League               Team  Stages     Season  \\\n",
      "0     Spain         Spain LIGA BBVA     Real Madrid CF      19  2015/2016   \n",
      "1     Spain         Spain LIGA BBVA       FC Barcelona      19  2015/2016   \n",
      "2   Germany   Germany 1. Bundesliga   FC Bayern Munich      17  2015/2016   \n",
      "3     Spain         Spain LIGA BBVA     Real Madrid CF      19  2014/2015   \n",
      "4     Spain         Spain LIGA BBVA       FC Barcelona      19  2014/2015   \n",
      "5     Spain         Spain LIGA BBVA       FC Barcelona      19  2013/2014   \n",
      "6   England  England Premier League    Manchester City      19  2013/2014   \n",
      "7     Spain         Spain LIGA BBVA     Real Madrid CF      19  2013/2014   \n",
      "8   England  England Premier League          Liverpool      19  2013/2014   \n",
      "9     Spain         Spain LIGA BBVA     Real Madrid CF      19  2012/2013   \n",
      "10    Spain         Spain LIGA BBVA       FC Barcelona      19  2012/2013   \n",
      "11  Germany   Germany 1. Bundesliga   FC Bayern Munich      17  2012/2013   \n",
      "12    Spain         Spain LIGA BBVA       FC Barcelona      19  2011/2012   \n",
      "13    Spain         Spain LIGA BBVA     Real Madrid CF      19  2011/2012   \n",
      "14  England  England Premier League    Manchester City      19  2011/2012   \n",
      "15  England  England Premier League  Manchester United      19  2011/2012   \n",
      "16    Spain         Spain LIGA BBVA     Real Madrid CF      19  2010/2011   \n",
      "17  England  England Premier League            Chelsea      19  2009/2010   \n",
      "18    Spain         Spain LIGA BBVA     Real Madrid CF      19  2009/2010   \n",
      "19    Spain         Spain LIGA BBVA       FC Barcelona      19  2009/2010   \n",
      "20  England  England Premier League  Manchester United      19  2009/2010   \n",
      "21    Spain         Spain LIGA BBVA       FC Barcelona      19  2008/2009   \n",
      "22  Germany   Germany 1. Bundesliga      VfL Wolfsburg      17  2008/2009   \n",
      "\n",
      "    sum_goals  avg_goals  \n",
      "0          70       3.68  \n",
      "1          67       3.53  \n",
      "2          51       3.00  \n",
      "3          65       3.42  \n",
      "4          64       3.37  \n",
      "5          64       3.37  \n",
      "6          63       3.32  \n",
      "7          63       3.32  \n",
      "8          53       2.79  \n",
      "9          67       3.53  \n",
      "10         63       3.32  \n",
      "11         56       3.29  \n",
      "12         73       3.84  \n",
      "13         70       3.68  \n",
      "14         55       2.89  \n",
      "15         52       2.74  \n",
      "16         61       3.21  \n",
      "17         68       3.58  \n",
      "18         60       3.16  \n",
      "19         57       3.00  \n",
      "20         52       2.74  \n",
      "21         61       3.21  \n",
      "22         51       3.00  \n"
     ]
    }
   ],
   "source": [
    "query = \"\"\"\n",
    "SELECT\n",
    "    c.name AS Country,\n",
    "    l.name AS League,\n",
    "    t.team_long_name AS Team,\n",
    "    COUNT(DISTINCT m.stage) AS Stages,\n",
    "    m.season AS Season,\n",
    "    SUM(m.home_team_goal) AS sum_goals,\n",
    "    ROUND(AVG(m.home_team_goal), 2) AS avg_goals\n",
    "FROM \n",
    "    match AS m\n",
    "JOIN \n",
    "    country AS c ON c.id = m.country_id\n",
    "JOIN \n",
    "    league AS l ON l.id = m.league_id\n",
    "JOIN \n",
    "    team AS t ON t.team_api_id = m.home_team_api_id\n",
    "WHERE \n",
    "    c.name IN ('Spain', 'Germany', 'England')\n",
    "GROUP BY \n",
    "    c.name, l.name, t.team_long_name, m.season\n",
    "HAVING \n",
    "    SUM(m.home_team_goal) > 50\n",
    "ORDER BY \n",
    "    m.season DESC, sum_goals DESC;\n",
    "\"\"\"\n",
    "\n",
    "consultaHaving03 = pd.read_sql(query, conex)\n",
    "\n",
    "print(consultaHaving03)\n"
   ]
  },
  {
   "cell_type": "markdown",
   "metadata": {},
   "source": [
    "#### **Función DATE()**\n",
    "\n",
    "**DATE():** Esta función extrae la parte de fecha de una expresión tipo date o tipo date time y devuelve una cadena de fecha en este formato: AAAA-MM-DD.\n",
    "\n",
    "Su sintaxis es la siguiente:\n",
    "\n",
    "**SELECT DATE**(Datetime_field)\n",
    "**FROM** table;"
   ]
  },
  {
   "cell_type": "markdown",
   "metadata": {},
   "source": [
    "**10.1.4 Práctica: Análisis del cambio en overall rating y potential de Cristiano Ronaldo por edad.**\n",
    "\n",
    "Se requiere visualizar el cambio de en **overall_rating** y **potential** de **Cristiano Ronaldo** por edad.\n",
    "\n",
    "Entonces, la tabla de resultado deberá contener los siguientes campos: **player_name**, la edad nombrada como **Age**, **overall_rating**, **potential** y **date** como **RatingDate**.\n",
    "\n",
    "Las tablas involucradas son \n",
    "\n",
    "* Player_Attributes\n",
    "* Player\n",
    "\n",
    "Que tienen una relación a través del campo \n",
    "\n",
    "* player_api_id con mismo nombre en ambas tablas."
   ]
  },
  {
   "cell_type": "code",
   "execution_count": 129,
   "metadata": {},
   "outputs": [
    {
     "name": "stdout",
     "output_type": "stream",
     "text": [
      "          player_name  Age  overall_rating  potential           RatingDate\n",
      "0   Cristiano Ronaldo   22              87         92  2007-02-22 00:00:00\n",
      "1   Cristiano Ronaldo   22              91         94  2007-08-30 00:00:00\n",
      "2   Cristiano Ronaldo   23              91         94  2008-08-30 00:00:00\n",
      "3   Cristiano Ronaldo   24              90         94  2009-02-22 00:00:00\n",
      "4   Cristiano Ronaldo   24              89         94  2009-08-30 00:00:00\n",
      "5   Cristiano Ronaldo   25              89         93  2010-02-22 00:00:00\n",
      "6   Cristiano Ronaldo   25              89         94  2010-08-30 00:00:00\n",
      "7   Cristiano Ronaldo   26              89         93  2011-02-22 00:00:00\n",
      "8   Cristiano Ronaldo   26              92         94  2011-08-30 00:00:00\n",
      "9   Cristiano Ronaldo   27              92         94  2012-02-22 00:00:00\n",
      "10  Cristiano Ronaldo   27              92         94  2012-08-31 00:00:00\n",
      "11  Cristiano Ronaldo   28              92         94  2013-02-15 00:00:00\n",
      "12  Cristiano Ronaldo   28              92         94  2013-03-01 00:00:00\n",
      "13  Cristiano Ronaldo   28              92         95  2013-03-08 00:00:00\n",
      "14  Cristiano Ronaldo   28              92         95  2013-03-22 00:00:00\n",
      "15  Cristiano Ronaldo   28              92         95  2013-09-20 00:00:00\n",
      "16  Cristiano Ronaldo   28              92         95  2014-01-17 00:00:00\n",
      "17  Cristiano Ronaldo   29              92         92  2014-02-07 00:00:00\n",
      "18  Cristiano Ronaldo   29              92         92  2014-09-18 00:00:00\n",
      "19  Cristiano Ronaldo   29              92         92  2014-10-31 00:00:00\n",
      "20  Cristiano Ronaldo   30              92         92  2015-04-17 00:00:00\n",
      "21  Cristiano Ronaldo   30              92         92  2015-05-15 00:00:00\n",
      "22  Cristiano Ronaldo   30              93         93  2015-09-21 00:00:00\n",
      "23  Cristiano Ronaldo   30              93         93  2015-09-25 00:00:00\n",
      "24  Cristiano Ronaldo   30              93         93  2015-10-16 00:00:00\n"
     ]
    }
   ],
   "source": [
    "query = \"\"\"\n",
    "SELECT\n",
    "    p.player_name AS player_name,\n",
    "    (strftime('%Y', pa.date) - strftime('%Y', p.birthday)) -\n",
    "    (strftime('%m-%d', pa.date) < strftime('%m-%d', p.birthday)) AS Age,\n",
    "    pa.overall_rating AS overall_rating,\n",
    "    pa.potential AS potential,\n",
    "    pa.date AS RatingDate\n",
    "FROM\n",
    "    Player AS p\n",
    "JOIN\n",
    "    Player_Attributes AS pa\n",
    "ON\n",
    "    p.player_api_id = pa.player_api_id\n",
    "WHERE\n",
    "    p.player_name = 'Cristiano Ronaldo'\n",
    "ORDER BY\n",
    "    RatingDate;\n",
    "\"\"\"\n",
    "\n",
    "consultaRonaldo = pd.read_sql(query, conex)\n",
    "\n",
    "print(consultaRonaldo)\n"
   ]
  },
  {
   "cell_type": "markdown",
   "metadata": {},
   "source": [
    "# **11. Orden de ejecución de las consultas**\n",
    "\n",
    "Ahora que estamos familiarizados con la mayoría de las funcionalidades que se utilizan en una consulta, es muy importante entender el orden en que se ejecuta el código.\n",
    "\n",
    "Primero, el orden de cómo lo escribimos (recordatorio):\n",
    "\n",
    "* SELECT\n",
    "* FROM\n",
    "* JOIN\n",
    "* WHERE\n",
    "* GROUP BY\n",
    "* HAVING\n",
    "* ORDER BY\n",
    "* LIMIT\n",
    "\n",
    "Ahora, el orden real en que las cosas suceden. Primero, puedes pensar en esta parte como la creación de una nueva tabla temporal en la memoria:\n",
    "\n",
    "Definir qué tablas usar, y conectarlas (FROM + JOIN)\n",
    "Mantén sólo las filas que se aplican a las condiciones (WHERE)\n",
    "Agrupar los datos por el nivel requerido (si es necesario) (GROUP BY)\n",
    "Elige qué información quieres tener en la nueva tabla (SELECT). Puede tener sólo datos en bruto (si no hay agrupación), o una combinación de dimensiones (de la agrupación), y métricas.\n",
    "\n",
    "Ahora, tomamos eso para mostrarlo de la siguiente manera:\n",
    "\n",
    "Ordenar la salida de la nueva tabla (ORDER BY)\n",
    "Agregar más condiciones que filtrarían la nueva tabla creada (HAVING)\n",
    "Límite en número de filas (LIMIT)"
   ]
  },
  {
   "cell_type": "markdown",
   "metadata": {},
   "source": [
    "# **12. Sentencia CASE WHEN en SELECT**\n",
    "\n",
    "La sentencia CASE WHEN de SQLite evalúa una lista de condiciones y devuelve una expresión basada en el resultado de dicha evaluación.\n",
    "\n",
    "CASE WHEN es similar a la sentencia IF-THEN-ELSE de otros lenguajes de programación.\n",
    "\n",
    "Se puede utilizar la sentencia CASE WHEN junto a cualquier sentencia que acepte una validaciones. Por ejemplo, puede utilizar la expresión CASE WHEN en sentencias como WHERE, ORDER BY, HAVING, SELECT y también en UPDATE y DELETE.\n",
    "\n",
    "La sentencia CASE contiene una expresión opcional seguida de una o más cláusulas WHEN [condition] THEN [expression], terminando con una cláusula opcional ELSE y la cláusula obligatoria END.\n",
    "\n",
    "Las sintaxis de CASE pueden ser de la siguiente manera:\n",
    "\n",
    "Sintaxis de Simple CASE\n",
    "CASE case_expression WHEN when_expression_1 THEN result_1 WHEN when_expression_2 THEN result_2 [...] ELSE result_else END\n",
    "\n",
    "Sintaxis de Condition CASE CASE WHEN bool_expression_1 THEN result_1 WHEN bool_expression_2 THEN result_2 [...] ELSE result_else END"
   ]
  },
  {
   "cell_type": "code",
   "execution_count": 130,
   "metadata": {},
   "outputs": [
    {
     "name": "stdout",
     "output_type": "stream",
     "text": [
      "     MatchDate                 HomeTeam  Home_goals  \\\n",
      "0   2013-06-01             FC Barcelona           4   \n",
      "1   2013-05-26             RCD Espanyol           0   \n",
      "2   2013-05-19             FC Barcelona           2   \n",
      "3   2013-05-12          Atlético Madrid           1   \n",
      "4   2013-05-05             FC Barcelona           4   \n",
      "5   2013-04-27  Athletic Club de Bilbao           2   \n",
      "6   2013-04-20             FC Barcelona           1   \n",
      "7   2013-04-14            Real Zaragoza           0   \n",
      "8   2013-04-06             FC Barcelona           5   \n",
      "9   2013-03-30         RC Celta de Vigo           2   \n",
      "10  2013-03-17             FC Barcelona           3   \n",
      "11  2013-03-09             FC Barcelona           2   \n",
      "12  2013-03-02           Real Madrid CF           2   \n",
      "13  2013-02-23             FC Barcelona           2   \n",
      "14  2013-02-16               Granada CF           1   \n",
      "\n",
      "                  VisitorTeam  Visitor_goals        Outcome  \n",
      "0                   Málaga CF              1      Barca won  \n",
      "1                FC Barcelona              2      Barca won  \n",
      "2             Real Valladolid              1      Barca won  \n",
      "3                FC Barcelona              2      Barca won  \n",
      "4         Real Betis Balompié              2      Barca won  \n",
      "5                FC Barcelona              2            Tie  \n",
      "6                  Levante UD              0      Barca won  \n",
      "7                FC Barcelona              3      Barca won  \n",
      "8                RCD Mallorca              0      Barca won  \n",
      "9                FC Barcelona              2            Tie  \n",
      "10             Rayo Vallecano              1      Barca won  \n",
      "11  RC Deportivo de La Coruña              0      Barca won  \n",
      "12               FC Barcelona              1  Barca lost :(  \n",
      "13                 Sevilla FC              1      Barca won  \n",
      "14               FC Barcelona              2      Barca won  \n"
     ]
    }
   ],
   "source": [
    "query = \"\"\"\n",
    "SELECT \n",
    "    DATE(Match.date) AS MatchDate,\n",
    "    Home.team_long_name AS HomeTeam,\n",
    "    Match.home_team_goal AS Home_goals,\n",
    "    Visitor.team_long_name AS VisitorTeam,\n",
    "    Match.away_team_goal AS Visitor_goals,\n",
    "    CASE \n",
    "        WHEN Home.team_api_id = 8634 AND Match.home_team_goal < Match.away_team_goal THEN 'Barca lost :('\n",
    "        WHEN Home.team_api_id = 8634 AND Match.home_team_goal > Match.away_team_goal THEN 'Barca won'\n",
    "        WHEN Visitor.team_api_id = 8634 AND Match.away_team_goal < Match.home_team_goal THEN 'Barca lost :('\n",
    "        WHEN Visitor.team_api_id = 8634 AND Match.away_team_goal > Match.home_team_goal THEN 'Barca won'\n",
    "        ELSE 'Tie' \n",
    "    END AS Outcome\n",
    "FROM \n",
    "    Match \n",
    "LEFT JOIN \n",
    "    Team AS Home ON Home.team_api_id = Match.home_team_api_id\n",
    "LEFT JOIN \n",
    "    Team AS Visitor ON Visitor.team_api_id = Match.away_team_api_id\n",
    "WHERE \n",
    "    (Visitor.team_api_id = 8634 OR Home.team_api_id = 8634) \n",
    "    AND season = '2012/2013'\n",
    "ORDER BY \n",
    "    MatchDate DESC\n",
    "LIMIT 15;\n",
    "\"\"\"\n",
    "\n",
    "Barca_results = pd.read_sql(query, conex)\n",
    "print(Barca_results)\n"
   ]
  },
  {
   "cell_type": "markdown",
   "metadata": {},
   "source": [
    "**12.2 Práctica: Queremos una tabla que me indique los partidos jugados por el FC Barcelona como local contra el Real Madrid CF, la fecha de juego y si perdió, ganó o empató.**\n",
    "\n",
    "La información que necesitamos está repartida entre las tablas Match y Team, cuya relación es: Team.team_api_id = Match.home_team_api_id\n",
    "\n",
    "Queremos ver a la fecha del partido como MatchDate, el nombre del equipo local como HomeTeam y del visitante como VisitorTeam. También queremos ver los goles y el resultado bajo alias Outcome.\n",
    "\n",
    "Datos necesarios:\n",
    "\n",
    "FC Barcelona: team_api_id = 8634\n",
    "Real Madrid CF: team_api_id = 8633"
   ]
  },
  {
   "cell_type": "code",
   "execution_count": 131,
   "metadata": {},
   "outputs": [
    {
     "name": "stdout",
     "output_type": "stream",
     "text": [
      "    MatchDate      HomeTeam     VisitorTeam  Home_goals  Visitor_goals  \\\n",
      "0  2016-04-02  FC Barcelona  Real Madrid CF           1              2   \n",
      "1  2015-03-22  FC Barcelona  Real Madrid CF           2              1   \n",
      "2  2013-10-26  FC Barcelona  Real Madrid CF           2              1   \n",
      "3  2012-10-07  FC Barcelona  Real Madrid CF           2              2   \n",
      "4  2012-04-21  FC Barcelona  Real Madrid CF           1              2   \n",
      "5  2010-11-29  FC Barcelona  Real Madrid CF           5              0   \n",
      "6  2009-11-29  FC Barcelona  Real Madrid CF           1              0   \n",
      "7  2008-12-13  FC Barcelona  Real Madrid CF           2              0   \n",
      "\n",
      "         Outcome  \n",
      "0  Barca lost :(  \n",
      "1      Barca won  \n",
      "2      Barca won  \n",
      "3            Tie  \n",
      "4  Barca lost :(  \n",
      "5      Barca won  \n",
      "6      Barca won  \n",
      "7      Barca won  \n"
     ]
    }
   ],
   "source": [
    "query = \"\"\"\n",
    "SELECT \n",
    "    DATE(Match.date) AS MatchDate,\n",
    "    Home.team_long_name AS HomeTeam,\n",
    "    Visitor.team_long_name AS VisitorTeam,\n",
    "    Match.home_team_goal AS Home_goals,\n",
    "    Match.away_team_goal AS Visitor_goals,\n",
    "    CASE \n",
    "        WHEN Match.home_team_api_id = 8634 AND Match.home_team_goal < Match.away_team_goal THEN 'Barca lost :('\n",
    "        WHEN Match.home_team_api_id = 8634 AND Match.home_team_goal > Match.away_team_goal THEN 'Barca won'\n",
    "        WHEN Match.home_team_api_id = 8634 AND Match.home_team_goal = Match.away_team_goal THEN 'Tie'\n",
    "        ELSE 'Tie'\n",
    "    END AS Outcome\n",
    "FROM \n",
    "    Match \n",
    "JOIN \n",
    "    Team AS Home ON Home.team_api_id = Match.home_team_api_id\n",
    "JOIN \n",
    "    Team AS Visitor ON Visitor.team_api_id = Match.away_team_api_id\n",
    "WHERE \n",
    "    Match.home_team_api_id = 8634\n",
    "    AND Match.away_team_api_id = 8633\n",
    "ORDER BY \n",
    "    MatchDate DESC;\n",
    "\"\"\"\n",
    "\n",
    "Barca_vs_RealMadrid = pd.read_sql(query, conex)\n",
    "print(Barca_vs_RealMadrid)\n"
   ]
  },
  {
   "cell_type": "markdown",
   "metadata": {},
   "source": [
    "# 13. **SUB QUERIES**\n",
    "\n",
    "El uso de subconsultas es una herramienta esencial en SQL, ya que permite manipular los datos de formas muy avanzadas sin necesidad de ningún script externo, y es especialmente importante cuando tus tablas están estructuradas de tal forma que no se pueden unir directamente."
   ]
  },
  {
   "cell_type": "markdown",
   "metadata": {},
   "source": [
    "**13.1 Ejemplo: Rating de Cristiano Ronaldo y Lionel Messi versus los demás jugadores.**\n",
    "\n",
    "Se requiere comparar el promedio de overall_rating y potential de Cristiano Ronaldo y Lionel Messi contra el promedio de los demás jugadores de la base de datos.\n",
    "\n",
    "Entonces, la tabla de resultado deberá contener los siguientes campos: player_name, el promedio redondeado con 2 decimales de overall_rating y el promedio redondeado con 2 decimales de potential. Mostrando a los demás jugadores como \"Others\".\n",
    "\n",
    "Las tablas involucradas son Player_Attributes y Player. Que tienen una relación en el campo player_api_id que tiene ese nombre en ambas tablas."
   ]
  },
  {
   "cell_type": "code",
   "execution_count": 132,
   "metadata": {},
   "outputs": [
    {
     "name": "stdout",
     "output_type": "stream",
     "text": [
      "              Player  avg_overall_rating  avg_potential\n",
      "0  Cristiano Ronaldo               91.28          93.48\n",
      "1       Lionel Messi               92.19          95.23\n",
      "2             Others               63.60          67.60\n"
     ]
    }
   ],
   "source": [
    "import pandas as pd\n",
    "import sqlite3\n",
    "\n",
    "# Establecer la conexión a tu base de datos\n",
    "conn = sqlite3.connect('tu_base_de_datos.db')\n",
    "\n",
    "# Definir la consulta SQL\n",
    "query = \"\"\"\n",
    "SELECT \n",
    "    CASE\n",
    "        WHEN player_name = 'Cristiano Ronaldo' THEN 'Cristiano Ronaldo'\n",
    "        WHEN player_name = 'Lionel Messi' THEN 'Lionel Messi'\n",
    "        ELSE 'Others'\n",
    "    END AS Player,\n",
    "    COALESCE(PA_Grouped.avg_overall_rating, 0) AS avg_overall_rating,\n",
    "    COALESCE(PA_Grouped.avg_potential, 0) AS avg_potential\n",
    "FROM \n",
    "    Player\n",
    "LEFT JOIN \n",
    "    (SELECT \n",
    "        Player_Attributes.player_api_id,\n",
    "        ROUND(avg(Player_Attributes.overall_rating), 2) AS avg_overall_rating,\n",
    "        ROUND(avg(Player_Attributes.potential), 2) AS avg_potential  \n",
    "    FROM \n",
    "        Player_Attributes\n",
    "    GROUP BY \n",
    "        Player_Attributes.player_api_id) AS PA_Grouped \n",
    "ON \n",
    "    Player.player_api_id = PA_Grouped.player_api_id\n",
    "GROUP BY \n",
    "    Player\n",
    "ORDER BY \n",
    "    Player;\n",
    "\"\"\"\n",
    "\n",
    "# Ejecutar la consulta y almacenar los resultados en un DataFrame de Pandas\n",
    "players_rating = pd.read_sql(query, conex)\n",
    "\n",
    "# Cerrar la conexión a la base de datos\n",
    "conn.close()\n",
    "\n",
    "# Imprimir los resultados\n",
    "print(players_rating)\n"
   ]
  }
 ],
 "metadata": {
  "kernelspec": {
   "display_name": "Python 3",
   "language": "python",
   "name": "python3"
  },
  "language_info": {
   "codemirror_mode": {
    "name": "ipython",
    "version": 3
   },
   "file_extension": ".py",
   "mimetype": "text/x-python",
   "name": "python",
   "nbconvert_exporter": "python",
   "pygments_lexer": "ipython3",
   "version": "3.12.0"
  }
 },
 "nbformat": 4,
 "nbformat_minor": 2
}
