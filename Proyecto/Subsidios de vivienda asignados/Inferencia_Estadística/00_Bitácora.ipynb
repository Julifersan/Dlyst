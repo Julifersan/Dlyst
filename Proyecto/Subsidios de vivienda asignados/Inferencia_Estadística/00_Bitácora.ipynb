{
 "cells": [
  {
   "cell_type": "markdown",
   "metadata": {},
   "source": [
    "# **Bitácora**"
   ]
  },
  {
   "cell_type": "markdown",
   "metadata": {},
   "source": [
    "### **01_Outliers**\n",
    "* Se uso la formula $Z-Score$\n",
    "    * $Z-Score (Z) = \\frac{x-\\overline{m}}{s}$\n",
    "        * $Donde:$\n",
    "            * $x$ = Es el valor del dato\n",
    "            * $\\overline{m}$ = Es la media del conjunto de datos\n",
    "            * $s$ = Es la desviación estándar del conjunto de datos\n",
    "        \n",
    "\n",
    "### Para el atributo **Valor_asignado**\n",
    "\n",
    "* **Numero de** $Outliers$: 745\n",
    "* **Numero total del conjunto de datos**: 79035\n",
    "* **% de outliers con respecto al numero de datos**: 0.9426%\n",
    "\n",
    "\n",
    "$Posdt$ = Se eliminaron los Outliers para el resto de análisis estadístico\n",
    "\n",
    "### **1.1.1 Coeficiente Fisher**\n",
    "\n",
    "$Fisher = 4.976$\n",
    "\n",
    "Dado que el coeficiente de asimetría es 4.976, se puede concluir que la distribución de los datos está fuertemente sesgada a la derecha, lo que significa que hay más valores extremos altos en la distribución. Es una señal de que los datos no están distribuidos de manera uniforme y presentan una tendencia hacia valores más grandes\n",
    "\n",
    "### **1.1.2 Kurtosis**\n",
    "\n",
    "$Kurtosis = 30.04$\n",
    "\n",
    "El valor de kurtosis que proporcionas es 30.04, esto indica una distribución muy leptocúrtica. Esto significa que hay una gran cantidad de datos concentrados alrededor de la media, pero también colas largas y valores extremos, lo que sugiere que existen muchos outliers o valores atípicos en los datos.\n",
    "\n",
    "\n",
    "### **1.1.3 Pruebas de normalidad**\n",
    "\n",
    "Prueba Shapiro-Wilk: Valor_Estadístico = 0.415255041572792, p-value=2.840284468615771e-159\n",
    "\n",
    "    ⬇️\n",
    "\n",
    "Prueba Kolmogorov-Smirnov: Valor_Estadístico = 1.0, p-value=0.0\n",
    "\n",
    "    ⬇️\n",
    "\n",
    "Prueba D’Agostino and Pearson’s: Valor_Estadístico = 76844.6537935298, p-value=0.0\n",
    "\n",
    "\n",
    "Al revisar los resultados, no me convencio, ya que indican una fuerte distribucion que no es normal, por loq ue tiene un alto valor de asimetrpía y kurtosis, lo que sugire que los datos están muy sesgados y contienen valores extremos.\n",
    "\n",
    "En base a lo anterior, decido usar una técnica útil para estos casos, la transformación logarítmica.\n",
    "\n",
    "### **02 Transformación Logarítmica**\n",
    "\n",
    "Realizo la técnica y vuelvo a realizar los métodos estadpisticos para ver si hubo algunos cambios"
   ]
  },
  {
   "cell_type": "markdown",
   "metadata": {},
   "source": [
    "****\n",
    "****"
   ]
  },
  {
   "cell_type": "markdown",
   "metadata": {},
   "source": [
    "* $Outliers$ = Se eliminaron algunos nuevos Outliers, pero que en mi apreciación, son prescindibles.\n",
    "\n",
    "* $Fisher$ = 0.7380623528987983, con un sesgo positivo, indica una asimetría hacia la derecha, sin embargo, es un dato que me es más útil para lo que lo requiero\n",
    "\n",
    "* $Kurtosis$ = 0.006464046059144746, Esto me indica un valor muy cercano a 0, la Kurtosis mide la altitud de las colas de la distribución en comparación con una distribución normal, por lo que sugiere que este valor, es similar a una distribución normal, ya que la distribución normal, es un valor igual a 0.\n",
    "\n",
    "* $Normalidad$ = EL resultado es mayor a 0,05, por lo tanto, la comprobación me es útil para estár confiado y seguir con los siguientes métodos."
   ]
  },
  {
   "cell_type": "markdown",
   "metadata": {},
   "source": [
    "### **3.1 Coeficiente de Variación**\n",
    "\n",
    "* Para el atributo que estoy evaluando, Valor_Asignado_log, el CV me dio $7.54$, lo cual es un buen indicador de que los datos no estan muy dispersos, ya que un valor menor a 10, es un buen indicativo. "
   ]
  },
  {
   "cell_type": "markdown",
   "metadata": {},
   "source": [
    "### **3.2 Regla Empírica**\n",
    "\n",
    "Usando esta regla y aplicandola al atributo que estoy evaluando, se determino que el $72.21951594708234$ % estan dentro de 1 desviación estándar de la media, asi que si cumple, ya que la regla dice que para una desviación estándar, el 68 a 80 % de los datos, deberían estár en una distribución normal."
   ]
  },
  {
   "cell_type": "markdown",
   "metadata": {},
   "source": [
    "\n",
    "### **4.1 Correlación de Pearson**\n",
    "\n",
    "Con está técnica, pretendo mirar si exioste alguna relación entre las variables que escogi con respecto al atributo 'Valor_Asignado_Log'\n",
    "\n",
    "A tener en cuenta: El valor tiene que estar cerca al $1$ absoluto, es decir, ya sea $-1$ o $1$\n",
    "\n",
    "* **Código_Departamento** = $0.04955168808138254$\n",
    "* **Código_Programa** = $-0.06853815571636145$\n",
    "* **Año_Asignación** = $0.1704862134650948$\n",
    "* **Hogares** = $0.3379650954214076$\n",
    "\n",
    "\n",
    "En conclusión, ninguna de esas variables es directamente relacionada con el atributo que estoy evaluando, según mis cálculos, no obstante, cabe la posibilidad de que algunos datos esten errados, o tal vez debi realizar más técnicas parámetricas en cuando a los valores asignados, o un conjunto de todos ellos, a lo que me lleva a la conclusión de que cometi algún error."
   ]
  },
  {
   "cell_type": "markdown",
   "metadata": {},
   "source": [
    "# **Y ahora qué**\n",
    "\n",
    "#### Para que la cosa continue, realizare la regresión lineal y su respectivo módelo, para luego realizar una aplicación práctica en base a ello, para que pueda ser usada realizar en 'inferencias', según los datos y obviamente el módelo."
   ]
  },
  {
   "cell_type": "markdown",
   "metadata": {},
   "source": []
  }
 ],
 "metadata": {
  "language_info": {
   "name": "python"
  }
 },
 "nbformat": 4,
 "nbformat_minor": 2
}
