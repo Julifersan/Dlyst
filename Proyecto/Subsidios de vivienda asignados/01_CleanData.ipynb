{
 "cells": [
  {
   "cell_type": "markdown",
   "metadata": {},
   "source": [
    "# Link: https://www.datos.gov.co/Vivienda-Ciudad-y-Territorio/Subsidios-De-Vivienda-Asignados/h2yr-zfb2/about_data"
   ]
  },
  {
   "cell_type": "markdown",
   "metadata": {},
   "source": [
    "## Se importan las librerías a usar"
   ]
  },
  {
   "cell_type": "code",
   "execution_count": 1,
   "metadata": {},
   "outputs": [],
   "source": [
    "import pandas as pd"
   ]
  },
  {
   "cell_type": "markdown",
   "metadata": {},
   "source": [
    "## Se importa la data"
   ]
  },
  {
   "cell_type": "code",
   "execution_count": 2,
   "metadata": {},
   "outputs": [
    {
     "name": "stdout",
     "output_type": "stream",
     "text": [
      "<class 'pandas.core.frame.DataFrame'>\n",
      "RangeIndex: 79035 entries, 0 to 79034\n",
      "Data columns (total 9 columns):\n",
      " #   Column                        Non-Null Count  Dtype  \n",
      "---  ------                        --------------  -----  \n",
      " 0   Departamento                  79035 non-null  object \n",
      " 1   Código Divipola Departamento  79035 non-null  int64  \n",
      " 2   Municipio                     79035 non-null  object \n",
      " 3   Código Divipola Municipio     79035 non-null  int64  \n",
      " 4   Programa                      79035 non-null  object \n",
      " 5   Año de Asignación             79035 non-null  int64  \n",
      " 6   Estado de Postulación         79035 non-null  object \n",
      " 7   Hogares                       79035 non-null  int64  \n",
      " 8   Valor Asignado                79035 non-null  float64\n",
      "dtypes: float64(1), int64(4), object(4)\n",
      "memory usage: 5.4+ MB\n"
     ]
    }
   ],
   "source": [
    "ruta = r'ORIGINAL_Subsidios_De_Vivienda_Asignados_20240824.csv'\n",
    "\n",
    "data = pd.read_csv(ruta)\n",
    "\n",
    "data.info()"
   ]
  },
  {
   "cell_type": "code",
   "execution_count": 3,
   "metadata": {},
   "outputs": [
    {
     "data": {
      "text/plain": [
       "(79035, 9)"
      ]
     },
     "execution_count": 3,
     "metadata": {},
     "output_type": "execute_result"
    }
   ],
   "source": [
    "data.shape"
   ]
  },
  {
   "cell_type": "markdown",
   "metadata": {},
   "source": [
    "## Se renombran las columnas en caso de ser necesario"
   ]
  },
  {
   "cell_type": "code",
   "execution_count": 4,
   "metadata": {},
   "outputs": [],
   "source": [
    "# Se establece una nueva data como copia para ir salvaguardando los cambios\n",
    "data1 = data.copy()"
   ]
  },
  {
   "cell_type": "code",
   "execution_count": 5,
   "metadata": {},
   "outputs": [
    {
     "data": {
      "text/html": [
       "<div>\n",
       "<style scoped>\n",
       "    .dataframe tbody tr th:only-of-type {\n",
       "        vertical-align: middle;\n",
       "    }\n",
       "\n",
       "    .dataframe tbody tr th {\n",
       "        vertical-align: top;\n",
       "    }\n",
       "\n",
       "    .dataframe thead th {\n",
       "        text-align: right;\n",
       "    }\n",
       "</style>\n",
       "<table border=\"1\" class=\"dataframe\">\n",
       "  <thead>\n",
       "    <tr style=\"text-align: right;\">\n",
       "      <th></th>\n",
       "      <th>Departamento</th>\n",
       "      <th>Código Divipola Departamento</th>\n",
       "      <th>Municipio</th>\n",
       "      <th>Código Divipola Municipio</th>\n",
       "      <th>Programa</th>\n",
       "      <th>Año de Asignación</th>\n",
       "      <th>Estado de Postulación</th>\n",
       "      <th>Hogares</th>\n",
       "      <th>Valor Asignado</th>\n",
       "    </tr>\n",
       "  </thead>\n",
       "  <tbody>\n",
       "    <tr>\n",
       "      <th>0</th>\n",
       "      <td>AMAZONAS</td>\n",
       "      <td>91</td>\n",
       "      <td>LETICIA</td>\n",
       "      <td>91001</td>\n",
       "      <td>Bolsa Desastres Naturales</td>\n",
       "      <td>2008</td>\n",
       "      <td>Apto con subsidio vencido</td>\n",
       "      <td>37</td>\n",
       "      <td>336984900.0</td>\n",
       "    </tr>\n",
       "    <tr>\n",
       "      <th>1</th>\n",
       "      <td>AMAZONAS</td>\n",
       "      <td>91</td>\n",
       "      <td>LETICIA</td>\n",
       "      <td>91001</td>\n",
       "      <td>Bolsa Desplazados</td>\n",
       "      <td>2009</td>\n",
       "      <td>Asignados</td>\n",
       "      <td>3</td>\n",
       "      <td>18633750.0</td>\n",
       "    </tr>\n",
       "    <tr>\n",
       "      <th>2</th>\n",
       "      <td>AMAZONAS</td>\n",
       "      <td>91</td>\n",
       "      <td>LETICIA</td>\n",
       "      <td>91001</td>\n",
       "      <td>Bolsa Ordinaria</td>\n",
       "      <td>2003</td>\n",
       "      <td>Apto con subsidio vencido</td>\n",
       "      <td>1</td>\n",
       "      <td>5280000.0</td>\n",
       "    </tr>\n",
       "    <tr>\n",
       "      <th>3</th>\n",
       "      <td>AMAZONAS</td>\n",
       "      <td>91</td>\n",
       "      <td>LETICIA</td>\n",
       "      <td>91001</td>\n",
       "      <td>Bolsa Ordinaria</td>\n",
       "      <td>2003</td>\n",
       "      <td>Asignados</td>\n",
       "      <td>2</td>\n",
       "      <td>12049000.0</td>\n",
       "    </tr>\n",
       "    <tr>\n",
       "      <th>4</th>\n",
       "      <td>AMAZONAS</td>\n",
       "      <td>91</td>\n",
       "      <td>LETICIA</td>\n",
       "      <td>91001</td>\n",
       "      <td>Habilitación de Titulos</td>\n",
       "      <td>2005</td>\n",
       "      <td>Asignados</td>\n",
       "      <td>215</td>\n",
       "      <td>22790000.0</td>\n",
       "    </tr>\n",
       "  </tbody>\n",
       "</table>\n",
       "</div>"
      ],
      "text/plain": [
       "  Departamento  Código Divipola Departamento Municipio  \\\n",
       "0     AMAZONAS                            91   LETICIA   \n",
       "1     AMAZONAS                            91   LETICIA   \n",
       "2     AMAZONAS                            91   LETICIA   \n",
       "3     AMAZONAS                            91   LETICIA   \n",
       "4     AMAZONAS                            91   LETICIA   \n",
       "\n",
       "   Código Divipola Municipio                   Programa  Año de Asignación  \\\n",
       "0                      91001  Bolsa Desastres Naturales               2008   \n",
       "1                      91001          Bolsa Desplazados               2009   \n",
       "2                      91001            Bolsa Ordinaria               2003   \n",
       "3                      91001            Bolsa Ordinaria               2003   \n",
       "4                      91001    Habilitación de Titulos               2005   \n",
       "\n",
       "       Estado de Postulación  Hogares  Valor Asignado  \n",
       "0  Apto con subsidio vencido       37     336984900.0  \n",
       "1                  Asignados        3      18633750.0  \n",
       "2  Apto con subsidio vencido        1       5280000.0  \n",
       "3                  Asignados        2      12049000.0  \n",
       "4                  Asignados      215      22790000.0  "
      ]
     },
     "execution_count": 5,
     "metadata": {},
     "output_type": "execute_result"
    }
   ],
   "source": [
    "data1.head()"
   ]
  },
  {
   "cell_type": "code",
   "execution_count": 6,
   "metadata": {},
   "outputs": [
    {
     "data": {
      "text/plain": [
       "Index(['Departamento', 'Código Divipola Departamento', 'Municipio',\n",
       "       'Código Divipola Municipio', 'Programa', 'Año de Asignación',\n",
       "       'Estado de Postulación', 'Hogares', 'Valor Asignado'],\n",
       "      dtype='object')"
      ]
     },
     "execution_count": 6,
     "metadata": {},
     "output_type": "execute_result"
    }
   ],
   "source": [
    "data1.columns"
   ]
  },
  {
   "cell_type": "code",
   "execution_count": 7,
   "metadata": {},
   "outputs": [
    {
     "data": {
      "text/plain": [
       "Index(['Departamento', 'Código_Departamento', 'Municipio', 'Código_Municipio',\n",
       "       'Programa', 'Año_Asignación', 'Estado_Postulación', 'Hogares',\n",
       "       'Valor_Asignado'],\n",
       "      dtype='object')"
      ]
     },
     "execution_count": 7,
     "metadata": {},
     "output_type": "execute_result"
    }
   ],
   "source": [
    "data1 = data1.rename(columns={\n",
    "    'Departamento':                 'Departamento',\n",
    "    'Código Divipola Departamento': 'Código_Departamento',\n",
    "    'Municipio':                    'Municipio',\n",
    "    'Código Divipola Municipio':    'Código_Municipio',\n",
    "    'Programa':                     'Programa',\n",
    "    'Año de Asignación':            'Año_Asignación',\n",
    "    'Estado de Postulación':        'Estado_Postulación',\n",
    "    'Hogares':                      'Hogares',\n",
    "    'Valor Asignado':               'Valor_Asignado'\n",
    "}\n",
    "                     )\n",
    "\n",
    "data1.columns\n"
   ]
  },
  {
   "cell_type": "markdown",
   "metadata": {},
   "source": [
    "## **Verifico del tipo de dato de los atributos**"
   ]
  },
  {
   "cell_type": "code",
   "execution_count": 8,
   "metadata": {},
   "outputs": [
    {
     "data": {
      "text/plain": [
       "Departamento            object\n",
       "Código_Departamento      int64\n",
       "Municipio               object\n",
       "Código_Municipio         int64\n",
       "Programa                object\n",
       "Año_Asignación           int64\n",
       "Estado_Postulación      object\n",
       "Hogares                  int64\n",
       "Valor_Asignado         float64\n",
       "dtype: object"
      ]
     },
     "execution_count": 8,
     "metadata": {},
     "output_type": "execute_result"
    }
   ],
   "source": [
    "data1.dtypes"
   ]
  },
  {
   "cell_type": "code",
   "execution_count": 9,
   "metadata": {},
   "outputs": [
    {
     "name": "stderr",
     "output_type": "stream",
     "text": [
      "C:\\Users\\Usuario\\AppData\\Local\\Temp\\ipykernel_18076\\720683981.py:1: FutureWarning: pandas.value_counts is deprecated and will be removed in a future version. Use pd.Series(obj).value_counts() instead.\n",
      "  frecuenciaMunicipio = pd.value_counts(data1['Municipio'])\n"
     ]
    },
    {
     "data": {
      "text/plain": [
       "(985,)"
      ]
     },
     "execution_count": 9,
     "metadata": {},
     "output_type": "execute_result"
    }
   ],
   "source": [
    "frecuenciaMunicipio = pd.value_counts(data1['Municipio'])\n",
    "\n",
    "frecuenciaMunicipio.shape"
   ]
  },
  {
   "cell_type": "code",
   "execution_count": 10,
   "metadata": {},
   "outputs": [
    {
     "data": {
      "text/plain": [
       "Municipio\n",
       "BOGOTÁ, D.C.          1843\n",
       "SOLEDAD               1449\n",
       "BARRANQUILLA          1384\n",
       "IBAGUÉ                1371\n",
       "SAN JOSÉ DE CÚCUTA    1364\n",
       "                      ... \n",
       "PUERTO NARIÑO            1\n",
       "CHÍQUIZA                 1\n",
       "BAHÍA SOLANO             1\n",
       "GUAYATÁ                  1\n",
       "TARAIRA                  1\n",
       "Name: count, Length: 985, dtype: int64"
      ]
     },
     "execution_count": 10,
     "metadata": {},
     "output_type": "execute_result"
    }
   ],
   "source": [
    "frecuenciaMunicipio"
   ]
  },
  {
   "cell_type": "code",
   "execution_count": 11,
   "metadata": {},
   "outputs": [
    {
     "data": {
      "text/plain": [
       "Año_Asignación\n",
       "2021    10117\n",
       "2022    10087\n",
       "2020     7107\n",
       "2018     6349\n",
       "2019     5926\n",
       "2017     5397\n",
       "2016     5263\n",
       "2023     4579\n",
       "2024     3143\n",
       "2010     3037\n",
       "2015     2406\n",
       "2008     2398\n",
       "2009     2192\n",
       "2011     2045\n",
       "2007     1985\n",
       "2006     1531\n",
       "2004     1393\n",
       "2005     1393\n",
       "2003      934\n",
       "2014      754\n",
       "2012      562\n",
       "2013      437\n",
       "Name: count, dtype: int64"
      ]
     },
     "execution_count": 11,
     "metadata": {},
     "output_type": "execute_result"
    }
   ],
   "source": [
    "frecuenciafecha = pd.Series(data1['Año_Asignación']).value_counts()\n",
    "\n",
    "frecuenciafecha"
   ]
  },
  {
   "cell_type": "code",
   "execution_count": 12,
   "metadata": {},
   "outputs": [
    {
     "data": {
      "text/plain": [
       "(22,)"
      ]
     },
     "execution_count": 12,
     "metadata": {},
     "output_type": "execute_result"
    }
   ],
   "source": [
    "frecuenciafecha.shape"
   ]
  },
  {
   "cell_type": "code",
   "execution_count": 13,
   "metadata": {},
   "outputs": [
    {
     "data": {
      "text/plain": [
       "Programa\n",
       "MI CASA YA                                   46819\n",
       "Bolsa Desplazados                             9215\n",
       "Semillero de Propietarios Arriendo            4492\n",
       "VIPA                                          3304\n",
       "Programa Vivienda Gratuita Fase I             2580\n",
       "Bolsa Esfuerzo Territorial                    2018\n",
       "Semillero de Propietarios Ahorro              1666\n",
       "Bolsa Ordinaria                               1350\n",
       "Ahorro Programado Contractual                 1231\n",
       "Programa Vivienda Gratuita Fase II            1038\n",
       "Bolsa Concejales                              1030\n",
       "Casa Digna Vida Digna                          841\n",
       "Bolsa Atentados terroristas                    746\n",
       "Bolsa Desastres Naturales                      745\n",
       "Bolsa Saludable                                728\n",
       "Bolsa unica Nacional                           367\n",
       "Fenómeno de la Niña                            194\n",
       "Macroproyecto                                  194\n",
       "Bolsa Recicladores                             135\n",
       "Habilitación de Titulos                        132\n",
       "Concurso de Esfuerzo Territorial Nacional       72\n",
       "Bolsa Única Mejoramiento                        61\n",
       "Sin clasificación                               41\n",
       "Subsidios en Especie y complementarios          30\n",
       "TUTELAS                                          6\n",
       "Name: count, dtype: int64"
      ]
     },
     "execution_count": 13,
     "metadata": {},
     "output_type": "execute_result"
    }
   ],
   "source": [
    "frecuenciaprograma = pd.Series(data1['Programa']).value_counts()\n",
    "\n",
    "frecuenciaprograma"
   ]
  },
  {
   "cell_type": "code",
   "execution_count": 14,
   "metadata": {},
   "outputs": [
    {
     "data": {
      "text/plain": [
       "(25,)"
      ]
     },
     "execution_count": 14,
     "metadata": {},
     "output_type": "execute_result"
    }
   ],
   "source": [
    "frecuenciaprograma.shape"
   ]
  },
  {
   "cell_type": "code",
   "execution_count": 15,
   "metadata": {},
   "outputs": [
    {
     "data": {
      "text/plain": [
       "Estado_Postulación\n",
       "Asignados                                                                       63070\n",
       "Apto con subsidio vencido                                                        5620\n",
       "Renuncias al subsidio                                                            4785\n",
       "Asignado con aplicación en Vivienda Gratuita                                     1421\n",
       "Renuncia con restitucion de subsidio                                             1218\n",
       "Perdida de ejecutoriedad de asignación de SFV                                     947\n",
       "Restitución SFV por Vencimiento Vigencia                                          605\n",
       "Subsidio Revocado                                                                 342\n",
       "Restitución SFV por Indemnización                                                 335\n",
       "Restitucion de subsidios no aplicados                                             283\n",
       "Subsidio revocado mediante procedimiento Administrativo Sancionatorio             243\n",
       "Restitución SFV Cobro Directo Fiduciaria                                           55\n",
       "Renuncia a la postulación                                                          30\n",
       "Asignado posteriormente beneficiario de Vivienda Gratuita                          27\n",
       "Renuncia al Subsidio - Pendiente de Restitución                                    23\n",
       "Subsidio Restituido                                                                 8\n",
       "Vencido en proceso de restitución de recursos a la DTN                              5\n",
       "Asignado sancionado                                                                 4\n",
       "Realizó cambio de proyecto, hogar asignado                                          4\n",
       "Asignado (en demanda de nulidad y restablecimiento - Habilitados Mi Casa Ya)        3\n",
       "En sistema no en resolucion depuración                                              2\n",
       "Asignado con Aplicación en Mi Casa Ya                                               1\n",
       "Pendiente de Revocar                                                                1\n",
       "Renuncia en trámite sin restitución                                                 1\n",
       "postulación anulada  por error de digitación de la caja                             1\n",
       "Pendiente de Sanción por Falsedad                                                   1\n",
       "Name: count, dtype: int64"
      ]
     },
     "execution_count": 15,
     "metadata": {},
     "output_type": "execute_result"
    }
   ],
   "source": [
    "frecuenciaPostulacion = pd.Series(data1['Estado_Postulación']).value_counts()\n",
    "\n",
    "frecuenciaPostulacion"
   ]
  },
  {
   "cell_type": "code",
   "execution_count": 16,
   "metadata": {},
   "outputs": [
    {
     "data": {
      "text/plain": [
       "(26,)"
      ]
     },
     "execution_count": 16,
     "metadata": {},
     "output_type": "execute_result"
    }
   ],
   "source": [
    "frecuenciaPostulacion.shape"
   ]
  },
  {
   "cell_type": "code",
   "execution_count": 17,
   "metadata": {},
   "outputs": [
    {
     "data": {
      "text/plain": [
       "Hogares\n",
       "1      32742\n",
       "2      10946\n",
       "3       5971\n",
       "4       4013\n",
       "5       2928\n",
       "       ...  \n",
       "338        1\n",
       "680        1\n",
       "462        1\n",
       "251        1\n",
       "384        1\n",
       "Name: count, Length: 525, dtype: int64"
      ]
     },
     "execution_count": 17,
     "metadata": {},
     "output_type": "execute_result"
    }
   ],
   "source": [
    "frecuenciaHogares = pd.Series(data1['Hogares']).value_counts()\n",
    "\n",
    "frecuenciaHogares"
   ]
  },
  {
   "cell_type": "code",
   "execution_count": 18,
   "metadata": {},
   "outputs": [
    {
     "data": {
      "text/plain": [
       "(525,)"
      ]
     },
     "execution_count": 18,
     "metadata": {},
     "output_type": "execute_result"
    }
   ],
   "source": [
    "frecuenciaHogares.shape"
   ]
  },
  {
   "cell_type": "markdown",
   "metadata": {},
   "source": [
    "## **Se exporta el archivo fact_Subsidios**\n",
    "\n",
    "Este archivo es para poder usarlo como datos principales, en donde están todos los datos recopilados, el cual, se usará para poder duplicarlo y realizar el modelado para que el software de visualización, PowerBi, este más 'Ligero' en los procesos gráficos."
   ]
  },
  {
   "cell_type": "code",
   "execution_count": 19,
   "metadata": {},
   "outputs": [],
   "source": [
    "#data1.to_csv('fact_Subsidios.csv', index=False)"
   ]
  },
  {
   "cell_type": "markdown",
   "metadata": {},
   "source": [
    "# **Edición de un nuevo dataframe a partir del data1**\n",
    "\n",
    "Esto se hace con el fin de establecer los atributos específicos para su posterior trabajo"
   ]
  },
  {
   "cell_type": "code",
   "execution_count": 20,
   "metadata": {},
   "outputs": [
    {
     "data": {
      "text/plain": [
       "Index(['Departamento', 'Código_Departamento', 'Municipio', 'Código_Municipio',\n",
       "       'Programa', 'Año_Asignación', 'Estado_Postulación', 'Hogares',\n",
       "       'Valor_Asignado'],\n",
       "      dtype='object')"
      ]
     },
     "execution_count": 20,
     "metadata": {},
     "output_type": "execute_result"
    }
   ],
   "source": [
    "data1.columns"
   ]
  },
  {
   "cell_type": "code",
   "execution_count": 21,
   "metadata": {},
   "outputs": [
    {
     "data": {
      "text/html": [
       "<div>\n",
       "<style scoped>\n",
       "    .dataframe tbody tr th:only-of-type {\n",
       "        vertical-align: middle;\n",
       "    }\n",
       "\n",
       "    .dataframe tbody tr th {\n",
       "        vertical-align: top;\n",
       "    }\n",
       "\n",
       "    .dataframe thead th {\n",
       "        text-align: right;\n",
       "    }\n",
       "</style>\n",
       "<table border=\"1\" class=\"dataframe\">\n",
       "  <thead>\n",
       "    <tr style=\"text-align: right;\">\n",
       "      <th></th>\n",
       "      <th>Departamento</th>\n",
       "      <th>Código_Departamento</th>\n",
       "      <th>Programa</th>\n",
       "      <th>Año_Asignación</th>\n",
       "      <th>Hogares</th>\n",
       "      <th>Valor_Asignado</th>\n",
       "    </tr>\n",
       "  </thead>\n",
       "  <tbody>\n",
       "    <tr>\n",
       "      <th>0</th>\n",
       "      <td>AMAZONAS</td>\n",
       "      <td>91</td>\n",
       "      <td>Bolsa Desastres Naturales</td>\n",
       "      <td>2008</td>\n",
       "      <td>37</td>\n",
       "      <td>336984900.0</td>\n",
       "    </tr>\n",
       "    <tr>\n",
       "      <th>1</th>\n",
       "      <td>AMAZONAS</td>\n",
       "      <td>91</td>\n",
       "      <td>Bolsa Desplazados</td>\n",
       "      <td>2009</td>\n",
       "      <td>3</td>\n",
       "      <td>18633750.0</td>\n",
       "    </tr>\n",
       "    <tr>\n",
       "      <th>2</th>\n",
       "      <td>AMAZONAS</td>\n",
       "      <td>91</td>\n",
       "      <td>Bolsa Ordinaria</td>\n",
       "      <td>2003</td>\n",
       "      <td>1</td>\n",
       "      <td>5280000.0</td>\n",
       "    </tr>\n",
       "    <tr>\n",
       "      <th>3</th>\n",
       "      <td>AMAZONAS</td>\n",
       "      <td>91</td>\n",
       "      <td>Bolsa Ordinaria</td>\n",
       "      <td>2003</td>\n",
       "      <td>2</td>\n",
       "      <td>12049000.0</td>\n",
       "    </tr>\n",
       "    <tr>\n",
       "      <th>4</th>\n",
       "      <td>AMAZONAS</td>\n",
       "      <td>91</td>\n",
       "      <td>Habilitación de Titulos</td>\n",
       "      <td>2005</td>\n",
       "      <td>215</td>\n",
       "      <td>22790000.0</td>\n",
       "    </tr>\n",
       "  </tbody>\n",
       "</table>\n",
       "</div>"
      ],
      "text/plain": [
       "  Departamento  Código_Departamento                   Programa  \\\n",
       "0     AMAZONAS                   91  Bolsa Desastres Naturales   \n",
       "1     AMAZONAS                   91          Bolsa Desplazados   \n",
       "2     AMAZONAS                   91            Bolsa Ordinaria   \n",
       "3     AMAZONAS                   91            Bolsa Ordinaria   \n",
       "4     AMAZONAS                   91    Habilitación de Titulos   \n",
       "\n",
       "   Año_Asignación  Hogares  Valor_Asignado  \n",
       "0            2008       37     336984900.0  \n",
       "1            2009        3      18633750.0  \n",
       "2            2003        1       5280000.0  \n",
       "3            2003        2      12049000.0  \n",
       "4            2005      215      22790000.0  "
      ]
     },
     "execution_count": 21,
     "metadata": {},
     "output_type": "execute_result"
    }
   ],
   "source": [
    "data2 = data1.copy()\n",
    "\n",
    "Atributos_requeridos = ['Departamento', 'Código_Departamento', 'Programa', 'Año_Asignación', 'Hogares', 'Valor_Asignado']\n",
    "\n",
    "data2 = data2[Atributos_requeridos]\n",
    "\n",
    "data2.head()"
   ]
  },
  {
   "cell_type": "code",
   "execution_count": 22,
   "metadata": {},
   "outputs": [
    {
     "data": {
      "text/plain": [
       "Programa\n",
       "MI CASA YA                                   46819\n",
       "Bolsa Desplazados                             9215\n",
       "Semillero de Propietarios Arriendo            4492\n",
       "VIPA                                          3304\n",
       "Programa Vivienda Gratuita Fase I             2580\n",
       "Bolsa Esfuerzo Territorial                    2018\n",
       "Semillero de Propietarios Ahorro              1666\n",
       "Bolsa Ordinaria                               1350\n",
       "Ahorro Programado Contractual                 1231\n",
       "Programa Vivienda Gratuita Fase II            1038\n",
       "Bolsa Concejales                              1030\n",
       "Casa Digna Vida Digna                          841\n",
       "Bolsa Atentados terroristas                    746\n",
       "Bolsa Desastres Naturales                      745\n",
       "Bolsa Saludable                                728\n",
       "Bolsa unica Nacional                           367\n",
       "Fenómeno de la Niña                            194\n",
       "Macroproyecto                                  194\n",
       "Bolsa Recicladores                             135\n",
       "Habilitación de Titulos                        132\n",
       "Concurso de Esfuerzo Territorial Nacional       72\n",
       "Bolsa Única Mejoramiento                        61\n",
       "Sin clasificación                               41\n",
       "Subsidios en Especie y complementarios          30\n",
       "TUTELAS                                          6\n",
       "Name: count, dtype: int64"
      ]
     },
     "execution_count": 22,
     "metadata": {},
     "output_type": "execute_result"
    }
   ],
   "source": [
    "frecuencia2Programa = pd.Series(data2['Programa']).value_counts()\n",
    "\n",
    "frecuencia2Programa"
   ]
  },
  {
   "cell_type": "code",
   "execution_count": 23,
   "metadata": {},
   "outputs": [
    {
     "data": {
      "text/html": [
       "<div>\n",
       "<style scoped>\n",
       "    .dataframe tbody tr th:only-of-type {\n",
       "        vertical-align: middle;\n",
       "    }\n",
       "\n",
       "    .dataframe tbody tr th {\n",
       "        vertical-align: top;\n",
       "    }\n",
       "\n",
       "    .dataframe thead th {\n",
       "        text-align: right;\n",
       "    }\n",
       "</style>\n",
       "<table border=\"1\" class=\"dataframe\">\n",
       "  <thead>\n",
       "    <tr style=\"text-align: right;\">\n",
       "      <th></th>\n",
       "      <th>Departamento</th>\n",
       "      <th>Código_Departamento</th>\n",
       "      <th>Programa</th>\n",
       "      <th>Año_Asignación</th>\n",
       "      <th>Hogares</th>\n",
       "      <th>Valor_Asignado</th>\n",
       "      <th>Código_Programa</th>\n",
       "    </tr>\n",
       "  </thead>\n",
       "  <tbody>\n",
       "    <tr>\n",
       "      <th>0</th>\n",
       "      <td>AMAZONAS</td>\n",
       "      <td>91</td>\n",
       "      <td>Bolsa Desastres Naturales</td>\n",
       "      <td>2008</td>\n",
       "      <td>37</td>\n",
       "      <td>336984900.0</td>\n",
       "      <td>174</td>\n",
       "    </tr>\n",
       "    <tr>\n",
       "      <th>1</th>\n",
       "      <td>AMAZONAS</td>\n",
       "      <td>91</td>\n",
       "      <td>Bolsa Desplazados</td>\n",
       "      <td>2009</td>\n",
       "      <td>3</td>\n",
       "      <td>18633750.0</td>\n",
       "      <td>162</td>\n",
       "    </tr>\n",
       "    <tr>\n",
       "      <th>2</th>\n",
       "      <td>AMAZONAS</td>\n",
       "      <td>91</td>\n",
       "      <td>Bolsa Ordinaria</td>\n",
       "      <td>2003</td>\n",
       "      <td>1</td>\n",
       "      <td>5280000.0</td>\n",
       "      <td>168</td>\n",
       "    </tr>\n",
       "    <tr>\n",
       "      <th>3</th>\n",
       "      <td>AMAZONAS</td>\n",
       "      <td>91</td>\n",
       "      <td>Bolsa Ordinaria</td>\n",
       "      <td>2003</td>\n",
       "      <td>2</td>\n",
       "      <td>12049000.0</td>\n",
       "      <td>168</td>\n",
       "    </tr>\n",
       "    <tr>\n",
       "      <th>4</th>\n",
       "      <td>AMAZONAS</td>\n",
       "      <td>91</td>\n",
       "      <td>Habilitación de Titulos</td>\n",
       "      <td>2005</td>\n",
       "      <td>215</td>\n",
       "      <td>22790000.0</td>\n",
       "      <td>180</td>\n",
       "    </tr>\n",
       "  </tbody>\n",
       "</table>\n",
       "</div>"
      ],
      "text/plain": [
       "  Departamento  Código_Departamento                   Programa  \\\n",
       "0     AMAZONAS                   91  Bolsa Desastres Naturales   \n",
       "1     AMAZONAS                   91          Bolsa Desplazados   \n",
       "2     AMAZONAS                   91            Bolsa Ordinaria   \n",
       "3     AMAZONAS                   91            Bolsa Ordinaria   \n",
       "4     AMAZONAS                   91    Habilitación de Titulos   \n",
       "\n",
       "   Año_Asignación  Hogares  Valor_Asignado  Código_Programa  \n",
       "0            2008       37     336984900.0              174  \n",
       "1            2009        3      18633750.0              162  \n",
       "2            2003        1       5280000.0              168  \n",
       "3            2003        2      12049000.0              168  \n",
       "4            2005      215      22790000.0              180  "
      ]
     },
     "execution_count": 23,
     "metadata": {},
     "output_type": "execute_result"
    }
   ],
   "source": [
    "# Se establece los códigos para cada uno de los programas\n",
    "\n",
    "Código_ProgramaNuevo = {\n",
    "'MI CASA YA':                                161,\n",
    "'Bolsa Desplazados':                         162,\n",
    "'Semillero de Propietarios Arriendo':        163,\n",
    "'VIPA':                                      164,\n",
    "'Programa Vivienda Gratuita Fase I':         165,\n",
    "'Bolsa Esfuerzo Territorial':                166,\n",
    "'Semillero de Propietarios Ahorro':          167,\n",
    "'Bolsa Ordinaria':                           168,\n",
    "'Ahorro Programado Contractual':             169,\n",
    "'Programa Vivienda Gratuita Fase II':        170,\n",
    "'Bolsa Concejales':                          171,\n",
    "'Casa Digna Vida Digna':                     172,\n",
    "'Bolsa Atentados terroristas':               173,\n",
    "'Bolsa Desastres Naturales':                 174,\n",
    "'Bolsa Saludable':                           175,\n",
    "'Bolsa unica Nacional':                      176,\n",
    "'Fenómeno de la Niña':                       177,\n",
    "'Macroproyecto':                             178,\n",
    "'Bolsa Recicladores':                        179,\n",
    "'Habilitación de Titulos':                   180,\n",
    "'Concurso de Esfuerzo Territorial Nacional': 181,\n",
    "'Bolsa Única Mejoramiento':                  182,\n",
    "'Sin clasificación':                         183,\n",
    "'Subsidios en Especie y complementarios':    184,\n",
    "'TUTELAS':                                   185,\n",
    "}\n",
    "\n",
    "# Se establece un mapeo del diccionario hacia un nuevo atributo\n",
    "data2['Código_Programa'] = data2['Programa'].map(Código_ProgramaNuevo)\n",
    "\n",
    "data2.head()"
   ]
  },
  {
   "cell_type": "code",
   "execution_count": 24,
   "metadata": {},
   "outputs": [
    {
     "data": {
      "text/html": [
       "<div>\n",
       "<style scoped>\n",
       "    .dataframe tbody tr th:only-of-type {\n",
       "        vertical-align: middle;\n",
       "    }\n",
       "\n",
       "    .dataframe tbody tr th {\n",
       "        vertical-align: top;\n",
       "    }\n",
       "\n",
       "    .dataframe thead th {\n",
       "        text-align: right;\n",
       "    }\n",
       "</style>\n",
       "<table border=\"1\" class=\"dataframe\">\n",
       "  <thead>\n",
       "    <tr style=\"text-align: right;\">\n",
       "      <th></th>\n",
       "      <th>Departamento</th>\n",
       "      <th>Código_Departamento</th>\n",
       "      <th>Programa</th>\n",
       "      <th>Código_Programa</th>\n",
       "      <th>Año_Asignación</th>\n",
       "      <th>Hogares</th>\n",
       "      <th>Valor_Asignado</th>\n",
       "    </tr>\n",
       "  </thead>\n",
       "  <tbody>\n",
       "    <tr>\n",
       "      <th>0</th>\n",
       "      <td>AMAZONAS</td>\n",
       "      <td>91</td>\n",
       "      <td>Bolsa Desastres Naturales</td>\n",
       "      <td>174</td>\n",
       "      <td>2008</td>\n",
       "      <td>37</td>\n",
       "      <td>336984900.0</td>\n",
       "    </tr>\n",
       "    <tr>\n",
       "      <th>1</th>\n",
       "      <td>AMAZONAS</td>\n",
       "      <td>91</td>\n",
       "      <td>Bolsa Desplazados</td>\n",
       "      <td>162</td>\n",
       "      <td>2009</td>\n",
       "      <td>3</td>\n",
       "      <td>18633750.0</td>\n",
       "    </tr>\n",
       "    <tr>\n",
       "      <th>2</th>\n",
       "      <td>AMAZONAS</td>\n",
       "      <td>91</td>\n",
       "      <td>Bolsa Ordinaria</td>\n",
       "      <td>168</td>\n",
       "      <td>2003</td>\n",
       "      <td>1</td>\n",
       "      <td>5280000.0</td>\n",
       "    </tr>\n",
       "    <tr>\n",
       "      <th>3</th>\n",
       "      <td>AMAZONAS</td>\n",
       "      <td>91</td>\n",
       "      <td>Bolsa Ordinaria</td>\n",
       "      <td>168</td>\n",
       "      <td>2003</td>\n",
       "      <td>2</td>\n",
       "      <td>12049000.0</td>\n",
       "    </tr>\n",
       "    <tr>\n",
       "      <th>4</th>\n",
       "      <td>AMAZONAS</td>\n",
       "      <td>91</td>\n",
       "      <td>Habilitación de Titulos</td>\n",
       "      <td>180</td>\n",
       "      <td>2005</td>\n",
       "      <td>215</td>\n",
       "      <td>22790000.0</td>\n",
       "    </tr>\n",
       "  </tbody>\n",
       "</table>\n",
       "</div>"
      ],
      "text/plain": [
       "  Departamento  Código_Departamento                   Programa  \\\n",
       "0     AMAZONAS                   91  Bolsa Desastres Naturales   \n",
       "1     AMAZONAS                   91          Bolsa Desplazados   \n",
       "2     AMAZONAS                   91            Bolsa Ordinaria   \n",
       "3     AMAZONAS                   91            Bolsa Ordinaria   \n",
       "4     AMAZONAS                   91    Habilitación de Titulos   \n",
       "\n",
       "   Código_Programa  Año_Asignación  Hogares  Valor_Asignado  \n",
       "0              174            2008       37     336984900.0  \n",
       "1              162            2009        3      18633750.0  \n",
       "2              168            2003        1       5280000.0  \n",
       "3              168            2003        2      12049000.0  \n",
       "4              180            2005      215      22790000.0  "
      ]
     },
     "execution_count": 24,
     "metadata": {},
     "output_type": "execute_result"
    }
   ],
   "source": [
    "Ordenamiento_Atributos = [\n",
    "    'Departamento',        #Atributo1\n",
    "    'Código_Departamento', #Atributo2\n",
    "    'Programa',            #Atributo3\n",
    "    'Código_Programa',     #Atributo4\n",
    "    'Año_Asignación',      #Atributo5\n",
    "    'Hogares',             #Atributo6\n",
    "    'Valor_Asignado'       #Atributo7\n",
    "]\n",
    "\n",
    "data3 = data2.copy()\n",
    "\n",
    "data3 = data3[Ordenamiento_Atributos]\n",
    "\n",
    "data3.head()"
   ]
  },
  {
   "cell_type": "code",
   "execution_count": 25,
   "metadata": {},
   "outputs": [
    {
     "data": {
      "text/plain": [
       "(79035, 7)"
      ]
     },
     "execution_count": 25,
     "metadata": {},
     "output_type": "execute_result"
    }
   ],
   "source": [
    "data3.shape"
   ]
  },
  {
   "cell_type": "markdown",
   "metadata": {},
   "source": [
    "# **Se exporta el archivo Inferencia**\n",
    "\n",
    "Este archivo es para poder realizar las inferencias con los atributos previamente seleccionados"
   ]
  },
  {
   "cell_type": "code",
   "execution_count": 26,
   "metadata": {},
   "outputs": [],
   "source": [
    "#data3.to_csv('Inferencia.csv', index=False)"
   ]
  }
 ],
 "metadata": {
  "kernelspec": {
   "display_name": "Python 3",
   "language": "python",
   "name": "python3"
  },
  "language_info": {
   "codemirror_mode": {
    "name": "ipython",
    "version": 3
   },
   "file_extension": ".py",
   "mimetype": "text/x-python",
   "name": "python",
   "nbconvert_exporter": "python",
   "pygments_lexer": "ipython3",
   "version": "3.12.5"
  }
 },
 "nbformat": 4,
 "nbformat_minor": 2
}
