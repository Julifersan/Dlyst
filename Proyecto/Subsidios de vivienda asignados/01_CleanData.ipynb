{
 "cells": [
  {
   "cell_type": "markdown",
   "metadata": {},
   "source": [
    "# Link: https://www.datos.gov.co/Vivienda-Ciudad-y-Territorio/Subsidios-De-Vivienda-Asignados/h2yr-zfb2/about_data"
   ]
  },
  {
   "cell_type": "markdown",
   "metadata": {},
   "source": [
    "## Se importan las librerías a usar"
   ]
  },
  {
   "cell_type": "code",
   "execution_count": 2,
   "metadata": {},
   "outputs": [],
   "source": [
    "import pandas as pd\n",
    "from tabulate import tabulate"
   ]
  },
  {
   "cell_type": "markdown",
   "metadata": {},
   "source": [
    "## Se importa la data"
   ]
  },
  {
   "cell_type": "code",
   "execution_count": 9,
   "metadata": {},
   "outputs": [
    {
     "name": "stdout",
     "output_type": "stream",
     "text": [
      "<class 'pandas.core.frame.DataFrame'>\n",
      "RangeIndex: 16 entries, 0 to 15\n",
      "Data columns (total 2 columns):\n",
      " #   Column     Non-Null Count  Dtype\n",
      "---  ------     --------------  -----\n",
      " 0   Columna_1  16 non-null     int64\n",
      " 1   Columna 2  16 non-null     int64\n",
      "dtypes: int64(2)\n",
      "memory usage: 388.0 bytes\n"
     ]
    }
   ],
   "source": [
    "path = r'prueba.xlsx'\n",
    "\n",
    "data = pd.read_excel(path)\n",
    "\n",
    "data.info()\n",
    "\n"
   ]
  },
  {
   "cell_type": "markdown",
   "metadata": {},
   "source": [
    "## Se renombran las columnas en caso de ser necesario"
   ]
  },
  {
   "cell_type": "code",
   "execution_count": null,
   "metadata": {},
   "outputs": [],
   "source": [
    "# Sustituir nombres los nombres de los atributos\n",
    "\n",
    "# banco1 : Cambiar nombres atributos banco\n",
    "# banco1 = banco.rename(columns={\n",
    "#     \"age\":             'edad',\n",
    "#     \"job\":             'trabajo',\n",
    "#     'marital':        'estado_civil',\n",
    "#     'education':   'educacion',\n",
    "#     'default':        'morosidad',\n",
    "#     'balance':       'saldo',\n",
    "#     'housing':       'vivienda',\n",
    "#     'loan':             'prestamo',\n",
    "#     'contact':       'contacto',\n",
    "#     'day':              'dia',\n",
    "#     'month':        'mes',\n",
    "#     'duration':    'duracion',\n",
    "#     'campaign':  'campana',\n",
    "#     'pdays':         'dias_previos',\n",
    "#     'previous':    'anterior',\n",
    "#     'poutcome': 'resultado',\n",
    "#     'y':                 'respuesta'\n",
    "# })\n",
    "\n",
    "# print(banco1.columns)"
   ]
  },
  {
   "cell_type": "markdown",
   "metadata": {},
   "source": [
    "## Se dividen columnas númericas de las columnas categóricas"
   ]
  },
  {
   "cell_type": "code",
   "execution_count": null,
   "metadata": {},
   "outputs": [],
   "source": [
    "# # banco1Categoricas: son las variables con texto (object).\n",
    "# # banco1Numericas = será un nuevo dataframe que contiene solo los atributos categóricos.\n",
    "# # .select_dtypes(include=[\"object\"]) : Selecciona todas las columnas del dataFrame 'banco1' que son de tipo 'object y almacena el resultado en 'banco1Categoricas.\n",
    "# banco1Categoricas = banco1.select_dtypes(include=[\"object\"])\n",
    "\n",
    "# # Se muestran los atributos de tipo categórico\n",
    "# print(banco1Categoricas.columns)\n",
    "\n",
    "# print(\"\\n                ⬇️\\n\")\n",
    "\n",
    "# # Se verifica el tipo de datos que existen en las columnas que seleccionamos como categóricas\n",
    "# print(banco1Categoricas.info())\n",
    "\n",
    "\n",
    "\n",
    "#  # banco1Numericas : Representaran a los atributos numericos, tanto int, como float\n",
    "#  # La explicación es similar, solo que en el caso de numericas\n",
    "# banco1Numericas = banco1.select_dtypes(include=[\"int64\",'float64' ])\n",
    "# print(banco1Numericas.columns)\n",
    "# print(\"\\n                ⬇️\\n\")\n",
    "# print(banco1Numericas.info())"
   ]
  },
  {
   "cell_type": "markdown",
   "metadata": {},
   "source": [
    "Se limpia cada atributo de la entidad de manera individual, porque .strip() solo acepta valos por columna y no por entidad, ya que generaría un error.\n",
    "\n",
    "Se debe usar a solo columnas de tipo string"
   ]
  },
  {
   "cell_type": "code",
   "execution_count": null,
   "metadata": {},
   "outputs": [],
   "source": [
    "# # Limpiar espacios en blanco alrededor de las columnas que son de tipo string\n",
    "# data['Nombre'] = data['Nombre'].str.strip()\n",
    "# data['Apellido'] = data['Apellido'].str.strip()\n",
    "# data['Dirección'] = data['Dirección'].str.strip()\n",
    "# data['Ciudad'] = data['Ciudad'].str.strip()\n",
    "# data['E-mail'] = data['E-mail'].str.strip()\n",
    "# data['Nombre producto'] = data['Nombre producto'].str.strip()\n",
    "# data['Fecha'] = data['Fecha'].str.strip()\n",
    "\n",
    "\n",
    "# # Imprimir la tabla resultante\n",
    "# print(table)\n"
   ]
  },
  {
   "cell_type": "markdown",
   "metadata": {},
   "source": [
    "## Identificar la frecuencia de cada uno de los atributos categoricos"
   ]
  },
  {
   "cell_type": "code",
   "execution_count": null,
   "metadata": {},
   "outputs": [],
   "source": [
    "# # Identificar los nombres de cada registro del atributo 'trabajo' y los enumera según su numero de ocurrencia\n",
    "# frecuenciaTrabajo = pd.value_counts(banco1[\"trabajo\"])\n",
    "\n",
    "# print(frecuenciaTrabajo)"
   ]
  },
  {
   "cell_type": "markdown",
   "metadata": {},
   "source": [
    "### **Limpieza de datos: Datos faltantes**\n",
    "\n",
    "En este punto, se visualizará los datos que no están completos, puesto que no todas los atributos tienen la misma cantidad de registros en sus subniveles o celdas.\n",
    "\n",
    "EL número total de registros debería ser para todos el mismo número, no obstante, algunos atributos podrían contener ese tipo de errores."
   ]
  },
  {
   "cell_type": "code",
   "execution_count": null,
   "metadata": {},
   "outputs": [],
   "source": [
    "# # .isna(): Es un método de pandas usado para contar los valores faltantes, teniendo en cuenta que se cuenta segun True y False, con valores de 1 y 0 respectivamente.\n",
    "# # sum(): Usado para sumar los valores 0 y 1\n",
    "\n",
    "# banco1.isna().sum()"
   ]
  },
  {
   "cell_type": "code",
   "execution_count": null,
   "metadata": {},
   "outputs": [],
   "source": [
    "# # Se establece un nuevo dataframe para que sea este el que será modificado, esto para fines prácticos y llevar una secuencialidad\n",
    "# banco2 = banco1.copy()# Uso .copy, para asegurarme de que banco2 sea una copia independiente de banco1\n",
    "\n",
    "# # .dropna(inplace=True): Este médotod lo que hace es eliminar todas las filas que contengan en sus celdas valores faltantes NaN.\n",
    "#     # inplace=True: Lo que indíca es que el dataframe, quedará modificado directamente a partir del proceso y no se devolvera una copia\n",
    "#      # inplace=False : Se dejará en False para que la variable se convierta en el nuevo DataFrame y no se modifique el original\n",
    "# banco2.dropna(inplace=True)\n",
    "\n",
    "# # Visualización y verificación del  dataframe sin valores faltantes\n",
    "# print(banco2.isna().sum())\n",
    "# print(\"\\n                ⬇️\\n\")\n",
    "\n",
    "# # Verificación de dataset banco1, el cual es un dataset ya depurado\n",
    "# banco1.count()"
   ]
  },
  {
   "cell_type": "markdown",
   "metadata": {},
   "source": [
    "### **Limpieza de datos: Columnas irrelevantes**\n",
    "\n",
    "> Para darle contexto\n",
    "\n",
    "Una columna irrelevante podría ser:\n",
    "\n",
    "* **Una columna que no contiene informacion relevante para el problema que queremos resolver.**\n",
    "\n",
    "* **Una columna categórica pero con un solo nivel:** Un ejemplo tácito para el atributo trabajo, que esté solo contuviera subniveles de un solo valor, ya sea unknown, employed, u otra categoría, pero que solo sea uno solo representando el atributo en su concepto general.\n",
    "\n",
    "* **Una columna númerica con un solo valor constante:** Algo similar al ejemplo anterior de la columna categórica.\n",
    "\n",
    "* **Columnas con información redundante:** Esto se ve comunmente en la columna de fechas, en la cual, a veces tenemos una columna que da la fecha completa, y otras en las cuales dice solo el año u otra que diga el mes, teniendo redundancia o exceso de los misma información, por lo que sería datos irrelevantes."
   ]
  },
  {
   "cell_type": "code",
   "execution_count": null,
   "metadata": {},
   "outputs": [],
   "source": [
    "# frecuenciaEdad = pd.Series(banco1Numericas['edad']).value_counts()\n",
    "# frecuenciaSaldo = pd.Series(banco1Numericas['saldo']).value_counts()\n",
    "# frecuenciaDia = pd.Series(banco1Numericas['dia']).value_counts()\n",
    "# frecuenciaDuracion = pd.Series(banco1Numericas['duracion']).value_counts()\n",
    "# frecuenciaCampana = pd.Series(banco1Numericas['campana']).value_counts()\n",
    "# frecuenciaDias_previos = pd.Series(banco1Numericas['dias_previos']).value_counts()\n",
    "# frecuenciaAnterior = pd.Series(banco1Numericas['anterior']).value_counts()\n",
    "\n",
    "# print(frecuenciaEdad)\n",
    "# print(\"\\n                ⬇️\\n\")\n",
    "# print(frecuenciaSaldo)\n",
    "# print(\"\\n                ⬇️\\n\")\n",
    "# print(frecuenciaDia)\n",
    "# print(\"\\n                ⬇️\\n\")\n",
    "# print(frecuenciaDuracion)\n",
    "# print(\"\\n                ⬇️\\n\")\n",
    "# print(frecuenciaCampana)\n",
    "# print(\"\\n                ⬇️\\n\")\n",
    "# print(frecuenciaDias_previos)\n",
    "# print(\"\\n                ⬇️\\n\")\n",
    "# print(frecuenciaAnterior)"
   ]
  },
  {
   "cell_type": "markdown",
   "metadata": {},
   "source": [
    "## **Limpieza de datos: Filas repetidas**"
   ]
  },
  {
   "cell_type": "code",
   "execution_count": null,
   "metadata": {},
   "outputs": [],
   "source": [
    "# #Mostramos la cantidad de registros antes de aplicar una transformación, limpieza o filtro\n",
    "# print(f'Tamaño del set antes de eliminar las filas repetidas: {banco2.shape}')\n",
    "\n",
    "# banco2.drop_duplicates(inplace=True)\n",
    "# #Mostramos la cantidad de registros después de aplicar una transformación, limpieza o filtro\n",
    "# print(f'Tamaño del set después de eliminar las filas repetidas: {banco2.shape}')"
   ]
  },
  {
   "cell_type": "markdown",
   "metadata": {},
   "source": [
    "## **Limpieza de datos: Errores tipográficos en variables categóricas**\n",
    "En una variable categórica pueden aparecer sub-niveles como \"unknown\" y \"UNK\" que para nosotros son equivalentes pero que para nuestro programa parecerían diferentes.\n",
    "\n",
    "> Se deben unificar estos sub-niveles"
   ]
  },
  {
   "cell_type": "code",
   "execution_count": null,
   "metadata": {},
   "outputs": [],
   "source": [
    "# # Graficar los subniveles de cada variable categórica\n",
    "# fig, ax = plt.subplots(nrows=10, ncols=1, figsize=(10,30))\n",
    "# fig.subplots_adjust(hspace=1)\n",
    "\n",
    "# for i, col in enumerate(banco1Categoricas):\n",
    "#   sns.countplot(x=col, hue=col, data=banco1Categoricas, ax=ax[i], palette= 'colorblind', legend=False)\n",
    "#   ax[i].set_title(col)\n",
    "#   ax[i].tick_params(axis='x', labelrotation=30)"
   ]
  },
  {
   "cell_type": "code",
   "execution_count": null,
   "metadata": {},
   "outputs": [],
   "source": [
    "# Graficar los subniveles de cada variable categórica\n",
    "fig, ax = plt.subplots(nrows=10, ncols=1, figsize=(10,30))\n",
    "fig.subplots_adjust(hspace=1)\n",
    "\n",
    "for i, col in enumerate(datacategorica):\n",
    "  sns.countplot(x=col, hue=col, data=datacategorica, ax=ax[i], palette= 'colorblind', legend=False)\n",
    "  ax[i].set_title(col)\n",
    "  ax[i].tick_params(axis='x', labelrotation=30)"
   ]
  },
  {
   "cell_type": "markdown",
   "metadata": {},
   "source": [
    "### **Normalizar subniveles**"
   ]
  },
  {
   "cell_type": "code",
   "execution_count": null,
   "metadata": {},
   "outputs": [],
   "source": [
    "# print(frecuenciaTrabajo)"
   ]
  },
  {
   "cell_type": "code",
   "execution_count": null,
   "metadata": {},
   "outputs": [],
   "source": [
    "# Unificar subniveles del atributo 'trabajo'\n",
    "mappingTrabajo = {\n",
    "    'management':                           'Gestion',\n",
    "    'Management':                           'Gestion',\n",
    "    'MANAGEMENT':                       'Gestion',\n",
    "    'self-employed':                         'Independiente',\n",
    "    'Self-employed':                         'Independiente',\n",
    "    'technician':                                'Tecnico',\n",
    "    'blue-collar':                                'Obrero',\n",
    "    'admin.':                                      'Administrador',\n",
    "    'administrative':                         'Administrador',\n",
    "    'services':                                    'Servicio',\n",
    "    'Services':                                    'Servicio',\n",
    "    'retired':                                      'Jubilado',\n",
    "    'Retired':                                     'Jubilado',\n",
    "    'entrepreneur':                          'Emprendedor',\n",
    "    'unemployed':                            'Desempleado',\n",
    "    'housemaid':                               'Mucama',\n",
    "    'student':                                     'Estudiante',\n",
    "    'unknown':                                  'Desconocido',\n",
    "    'Desconocido':                            'Desconocido'\n",
    "}\n",
    "\n",
    "# Reemplazar los valores según el diccionario de mapeo\n",
    "banco1Categoricas['trabajo'] = banco1Categoricas['trabajo'].replace(mappingTrabajo)\n",
    "\n",
    "frecuenciaTrabajoCLean = pd.Series(banco1Categoricas['trabajo']).value_counts()\n",
    "\n",
    "print(frecuenciaTrabajoCLean)"
   ]
  },
  {
   "cell_type": "markdown",
   "metadata": {},
   "source": [
    "## Comprobación"
   ]
  },
  {
   "cell_type": "code",
   "execution_count": null,
   "metadata": {},
   "outputs": [],
   "source": [
    "# fig, ax = plt.subplots(nrows=10, ncols=1, figsize=(10,30))\n",
    "# fig.subplots_adjust(hspace=1)\n",
    "\n",
    "# for i, col in enumerate(banco1Categoricas):\n",
    "#   sns.countplot(x=col, hue=col, data=banco1Categoricas, ax=ax[i], palette= 'colorblind', legend=False)\n",
    "#   ax[i].set_title(col)\n",
    "#   ax[i].tick_params(axis='x', labelrotation=30)"
   ]
  },
  {
   "cell_type": "markdown",
   "metadata": {},
   "source": [
    "## **Limpieza de datos: Outliers**\n",
    "\n",
    "Esto es para los atributos númericos"
   ]
  },
  {
   "cell_type": "code",
   "execution_count": null,
   "metadata": {},
   "outputs": [],
   "source": [
    "# # Creamos un tipo de gráfico boxplot de las columnas númericas\n",
    "# #generar gráficas individuales para las variables númericas, ya que están en rangos diferentes.\n",
    "\n",
    "# fig, ax = plt.subplots(nrows=7, ncols=1, figsize=(8,30))\n",
    "# fig.subplots_adjust(hspace=0.5)\n",
    "\n",
    "# for i, col in enumerate(banco1Numericas):\n",
    "#     sns.boxplot(x=col, data=banco1Numericas, ax=ax[i])\n",
    "#     ax[i].set_title(col)"
   ]
  },
  {
   "cell_type": "code",
   "execution_count": null,
   "metadata": {},
   "outputs": [],
   "source": [
    "# # Eliminar filas con \"edad\">100\n",
    "# print(f'Tamaño del set antes de eliminar registros de edad: {banco1Numericas.shape}')\n",
    "\n",
    "# banco1Numericas = banco1Numericas.drop(banco1Numericas[banco1Numericas['edad'] > 100].index)\n",
    "# print(f'Tamaño del set después de eliminar registros de edad: {banco1Numericas.shape}')"
   ]
  },
  {
   "cell_type": "code",
   "execution_count": null,
   "metadata": {},
   "outputs": [],
   "source": [
    "# # Eliminar filas con \"duracion\"<0\n",
    "# print(f'Tamaño del set antes de eliminar registros de duración: {banco1Numericas.shape}')\n",
    "\n",
    "# banco1Numericas = banco1Numericas.drop(banco1Numericas[banco1Numericas['duracion'] < 0].index)\n",
    "\n",
    "# print(f'Tamaño del set después de eliminar registros de duración: {banco1Numericas.shape}')"
   ]
  },
  {
   "cell_type": "markdown",
   "metadata": {},
   "source": [
    "## Unir DataFrames"
   ]
  },
  {
   "cell_type": "code",
   "execution_count": null,
   "metadata": {},
   "outputs": [],
   "source": [
    "# # Unir los dataframes limpios en uno solo\n",
    "# bancoClean = pd.concat([banco1Numericas, banco1Categoricas], axis=1)\n",
    "\n",
    "# print(bancoClean.columns)"
   ]
  },
  {
   "cell_type": "markdown",
   "metadata": {},
   "source": [
    "## Se exporta el archivo limpio\n",
    "\n",
    "Listo para realizar la estadística y su posterior visualización"
   ]
  },
  {
   "cell_type": "code",
   "execution_count": 1,
   "metadata": {},
   "outputs": [],
   "source": [
    "# Importar el archivo\n",
    "# df.to_csv('Limpio.csv', index=False)"
   ]
  }
 ],
 "metadata": {
  "kernelspec": {
   "display_name": "Python 3",
   "language": "python",
   "name": "python3"
  },
  "language_info": {
   "codemirror_mode": {
    "name": "ipython",
    "version": 3
   },
   "file_extension": ".py",
   "mimetype": "text/x-python",
   "name": "python",
   "nbconvert_exporter": "python",
   "pygments_lexer": "ipython3",
   "version": "3.12.0"
  }
 },
 "nbformat": 4,
 "nbformat_minor": 2
}
